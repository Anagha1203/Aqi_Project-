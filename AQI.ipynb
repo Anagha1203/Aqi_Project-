{
 "cells": [
  {
   "cell_type": "code",
   "execution_count": 1,
   "source": [
    "import numpy as np\r\n",
    "import pandas as pd\r\n",
    "import googlemaps\r\n",
    "import matplotlib.pyplot as plt\r\n",
    "import plotly_express as px\r\n",
    "import plotly.graph_objects as go\r\n",
    "from plotly.subplots import make_subplots\r\n",
    "import datetime as dt\r\n",
    "import warnings\r\n",
    "import os"
   ],
   "outputs": [],
   "metadata": {}
  },
  {
   "cell_type": "code",
   "execution_count": 2,
   "source": [
    "colorscale = ['#77DD77','#33AF13','#F6D20E','#F17700','#FE6B64','#F12424']\r\n",
    "PAPER_BGCOLOR = '#f5f2d0'\r\n",
    "BGCOLOR = 'LightSteelBlue'"
   ],
   "outputs": [],
   "metadata": {}
  },
  {
   "cell_type": "code",
   "execution_count": 3,
   "source": [
    "fig = go.Figure(data=[go.Table(\r\n",
    "    columnorder = [1,2,3,4],\r\n",
    "    columnwidth = [50,70,60,400],\r\n",
    "    \r\n",
    "    header=dict(values=['<b>AQI</b>', '<b>Remark</b>','<b>Colour Code</b>','<b>Possible Health Effects</b>'],\r\n",
    "                line_color='darkslategray',\r\n",
    "                fill_color='skyblue',\r\n",
    "                align='left'),\r\n",
    "    cells=dict(values=[['0-50','51-100','101-200','201-300','301-400','401-500'],\r\n",
    "                       ['Good','Satisfactory','Moderate','Poor','Very Poor','Severe'],\r\n",
    "                       ['','','','','',''],\r\n",
    "                       ['Minimal impact','Minor breathing discomfort to sensitive people',\\\r\n",
    "                       'Breathing discomfort to the people with lungs, asthma and heart diseases',\\\r\n",
    "                       'Breathing discomfort to most people on prolonged exposure',\\\r\n",
    "                       'Respiratory illness on prolonged exposure','Affects healthy people and seriously impacts those with existing diseases']],\r\n",
    "               line_color='darkslategray',\r\n",
    "               fill_color=['rgb(255,255,255)',\r\n",
    "                           'rgb(255,255,255)',\r\n",
    "                            [color for color in colorscale],\r\n",
    "                           'rgb(255,255,255)'],\r\n",
    "               align='left'))\r\n",
    "])\r\n",
    "\r\n",
    "fig.update_layout(height=180,paper_bgcolor='LightSteelBlue',margin=dict(l=5,r=5,t=5,b=5))\r\n",
    "fig.show()"
   ],
   "outputs": [
    {
     "output_type": "display_data",
     "data": {
      "application/vnd.plotly.v1+json": {
       "config": {
        "plotlyServerURL": "https://plot.ly"
       },
       "data": [
        {
         "cells": {
          "align": "left",
          "fill": {
           "color": [
            "rgb(255,255,255)",
            "rgb(255,255,255)",
            [
             "#77DD77",
             "#33AF13",
             "#F6D20E",
             "#F17700",
             "#FE6B64",
             "#F12424"
            ],
            "rgb(255,255,255)"
           ]
          },
          "line": {
           "color": "darkslategray"
          },
          "values": [
           [
            "0-50",
            "51-100",
            "101-200",
            "201-300",
            "301-400",
            "401-500"
           ],
           [
            "Good",
            "Satisfactory",
            "Moderate",
            "Poor",
            "Very Poor",
            "Severe"
           ],
           [
            "",
            "",
            "",
            "",
            "",
            ""
           ],
           [
            "Minimal impact",
            "Minor breathing discomfort to sensitive people",
            "Breathing discomfort to the people with lungs, asthma and heart diseases",
            "Breathing discomfort to most people on prolonged exposure",
            "Respiratory illness on prolonged exposure",
            "Affects healthy people and seriously impacts those with existing diseases"
           ]
          ]
         },
         "columnorder": [
          1,
          2,
          3,
          4
         ],
         "columnwidth": [
          50,
          70,
          60,
          400
         ],
         "header": {
          "align": "left",
          "fill": {
           "color": "skyblue"
          },
          "line": {
           "color": "darkslategray"
          },
          "values": [
           "<b>AQI</b>",
           "<b>Remark</b>",
           "<b>Colour Code</b>",
           "<b>Possible Health Effects</b>"
          ]
         },
         "type": "table"
        }
       ],
       "layout": {
        "height": 180,
        "margin": {
         "b": 5,
         "l": 5,
         "r": 5,
         "t": 5
        },
        "paper_bgcolor": "LightSteelBlue",
        "template": {
         "data": {
          "bar": [
           {
            "error_x": {
             "color": "#2a3f5f"
            },
            "error_y": {
             "color": "#2a3f5f"
            },
            "marker": {
             "line": {
              "color": "#E5ECF6",
              "width": 0.5
             },
             "pattern": {
              "fillmode": "overlay",
              "size": 10,
              "solidity": 0.2
             }
            },
            "type": "bar"
           }
          ],
          "barpolar": [
           {
            "marker": {
             "line": {
              "color": "#E5ECF6",
              "width": 0.5
             },
             "pattern": {
              "fillmode": "overlay",
              "size": 10,
              "solidity": 0.2
             }
            },
            "type": "barpolar"
           }
          ],
          "carpet": [
           {
            "aaxis": {
             "endlinecolor": "#2a3f5f",
             "gridcolor": "white",
             "linecolor": "white",
             "minorgridcolor": "white",
             "startlinecolor": "#2a3f5f"
            },
            "baxis": {
             "endlinecolor": "#2a3f5f",
             "gridcolor": "white",
             "linecolor": "white",
             "minorgridcolor": "white",
             "startlinecolor": "#2a3f5f"
            },
            "type": "carpet"
           }
          ],
          "choropleth": [
           {
            "colorbar": {
             "outlinewidth": 0,
             "ticks": ""
            },
            "type": "choropleth"
           }
          ],
          "contour": [
           {
            "colorbar": {
             "outlinewidth": 0,
             "ticks": ""
            },
            "colorscale": [
             [
              0,
              "#0d0887"
             ],
             [
              0.1111111111111111,
              "#46039f"
             ],
             [
              0.2222222222222222,
              "#7201a8"
             ],
             [
              0.3333333333333333,
              "#9c179e"
             ],
             [
              0.4444444444444444,
              "#bd3786"
             ],
             [
              0.5555555555555556,
              "#d8576b"
             ],
             [
              0.6666666666666666,
              "#ed7953"
             ],
             [
              0.7777777777777778,
              "#fb9f3a"
             ],
             [
              0.8888888888888888,
              "#fdca26"
             ],
             [
              1,
              "#f0f921"
             ]
            ],
            "type": "contour"
           }
          ],
          "contourcarpet": [
           {
            "colorbar": {
             "outlinewidth": 0,
             "ticks": ""
            },
            "type": "contourcarpet"
           }
          ],
          "heatmap": [
           {
            "colorbar": {
             "outlinewidth": 0,
             "ticks": ""
            },
            "colorscale": [
             [
              0,
              "#0d0887"
             ],
             [
              0.1111111111111111,
              "#46039f"
             ],
             [
              0.2222222222222222,
              "#7201a8"
             ],
             [
              0.3333333333333333,
              "#9c179e"
             ],
             [
              0.4444444444444444,
              "#bd3786"
             ],
             [
              0.5555555555555556,
              "#d8576b"
             ],
             [
              0.6666666666666666,
              "#ed7953"
             ],
             [
              0.7777777777777778,
              "#fb9f3a"
             ],
             [
              0.8888888888888888,
              "#fdca26"
             ],
             [
              1,
              "#f0f921"
             ]
            ],
            "type": "heatmap"
           }
          ],
          "heatmapgl": [
           {
            "colorbar": {
             "outlinewidth": 0,
             "ticks": ""
            },
            "colorscale": [
             [
              0,
              "#0d0887"
             ],
             [
              0.1111111111111111,
              "#46039f"
             ],
             [
              0.2222222222222222,
              "#7201a8"
             ],
             [
              0.3333333333333333,
              "#9c179e"
             ],
             [
              0.4444444444444444,
              "#bd3786"
             ],
             [
              0.5555555555555556,
              "#d8576b"
             ],
             [
              0.6666666666666666,
              "#ed7953"
             ],
             [
              0.7777777777777778,
              "#fb9f3a"
             ],
             [
              0.8888888888888888,
              "#fdca26"
             ],
             [
              1,
              "#f0f921"
             ]
            ],
            "type": "heatmapgl"
           }
          ],
          "histogram": [
           {
            "marker": {
             "pattern": {
              "fillmode": "overlay",
              "size": 10,
              "solidity": 0.2
             }
            },
            "type": "histogram"
           }
          ],
          "histogram2d": [
           {
            "colorbar": {
             "outlinewidth": 0,
             "ticks": ""
            },
            "colorscale": [
             [
              0,
              "#0d0887"
             ],
             [
              0.1111111111111111,
              "#46039f"
             ],
             [
              0.2222222222222222,
              "#7201a8"
             ],
             [
              0.3333333333333333,
              "#9c179e"
             ],
             [
              0.4444444444444444,
              "#bd3786"
             ],
             [
              0.5555555555555556,
              "#d8576b"
             ],
             [
              0.6666666666666666,
              "#ed7953"
             ],
             [
              0.7777777777777778,
              "#fb9f3a"
             ],
             [
              0.8888888888888888,
              "#fdca26"
             ],
             [
              1,
              "#f0f921"
             ]
            ],
            "type": "histogram2d"
           }
          ],
          "histogram2dcontour": [
           {
            "colorbar": {
             "outlinewidth": 0,
             "ticks": ""
            },
            "colorscale": [
             [
              0,
              "#0d0887"
             ],
             [
              0.1111111111111111,
              "#46039f"
             ],
             [
              0.2222222222222222,
              "#7201a8"
             ],
             [
              0.3333333333333333,
              "#9c179e"
             ],
             [
              0.4444444444444444,
              "#bd3786"
             ],
             [
              0.5555555555555556,
              "#d8576b"
             ],
             [
              0.6666666666666666,
              "#ed7953"
             ],
             [
              0.7777777777777778,
              "#fb9f3a"
             ],
             [
              0.8888888888888888,
              "#fdca26"
             ],
             [
              1,
              "#f0f921"
             ]
            ],
            "type": "histogram2dcontour"
           }
          ],
          "mesh3d": [
           {
            "colorbar": {
             "outlinewidth": 0,
             "ticks": ""
            },
            "type": "mesh3d"
           }
          ],
          "parcoords": [
           {
            "line": {
             "colorbar": {
              "outlinewidth": 0,
              "ticks": ""
             }
            },
            "type": "parcoords"
           }
          ],
          "pie": [
           {
            "automargin": true,
            "type": "pie"
           }
          ],
          "scatter": [
           {
            "marker": {
             "colorbar": {
              "outlinewidth": 0,
              "ticks": ""
             }
            },
            "type": "scatter"
           }
          ],
          "scatter3d": [
           {
            "line": {
             "colorbar": {
              "outlinewidth": 0,
              "ticks": ""
             }
            },
            "marker": {
             "colorbar": {
              "outlinewidth": 0,
              "ticks": ""
             }
            },
            "type": "scatter3d"
           }
          ],
          "scattercarpet": [
           {
            "marker": {
             "colorbar": {
              "outlinewidth": 0,
              "ticks": ""
             }
            },
            "type": "scattercarpet"
           }
          ],
          "scattergeo": [
           {
            "marker": {
             "colorbar": {
              "outlinewidth": 0,
              "ticks": ""
             }
            },
            "type": "scattergeo"
           }
          ],
          "scattergl": [
           {
            "marker": {
             "colorbar": {
              "outlinewidth": 0,
              "ticks": ""
             }
            },
            "type": "scattergl"
           }
          ],
          "scattermapbox": [
           {
            "marker": {
             "colorbar": {
              "outlinewidth": 0,
              "ticks": ""
             }
            },
            "type": "scattermapbox"
           }
          ],
          "scatterpolar": [
           {
            "marker": {
             "colorbar": {
              "outlinewidth": 0,
              "ticks": ""
             }
            },
            "type": "scatterpolar"
           }
          ],
          "scatterpolargl": [
           {
            "marker": {
             "colorbar": {
              "outlinewidth": 0,
              "ticks": ""
             }
            },
            "type": "scatterpolargl"
           }
          ],
          "scatterternary": [
           {
            "marker": {
             "colorbar": {
              "outlinewidth": 0,
              "ticks": ""
             }
            },
            "type": "scatterternary"
           }
          ],
          "surface": [
           {
            "colorbar": {
             "outlinewidth": 0,
             "ticks": ""
            },
            "colorscale": [
             [
              0,
              "#0d0887"
             ],
             [
              0.1111111111111111,
              "#46039f"
             ],
             [
              0.2222222222222222,
              "#7201a8"
             ],
             [
              0.3333333333333333,
              "#9c179e"
             ],
             [
              0.4444444444444444,
              "#bd3786"
             ],
             [
              0.5555555555555556,
              "#d8576b"
             ],
             [
              0.6666666666666666,
              "#ed7953"
             ],
             [
              0.7777777777777778,
              "#fb9f3a"
             ],
             [
              0.8888888888888888,
              "#fdca26"
             ],
             [
              1,
              "#f0f921"
             ]
            ],
            "type": "surface"
           }
          ],
          "table": [
           {
            "cells": {
             "fill": {
              "color": "#EBF0F8"
             },
             "line": {
              "color": "white"
             }
            },
            "header": {
             "fill": {
              "color": "#C8D4E3"
             },
             "line": {
              "color": "white"
             }
            },
            "type": "table"
           }
          ]
         },
         "layout": {
          "annotationdefaults": {
           "arrowcolor": "#2a3f5f",
           "arrowhead": 0,
           "arrowwidth": 1
          },
          "autotypenumbers": "strict",
          "coloraxis": {
           "colorbar": {
            "outlinewidth": 0,
            "ticks": ""
           }
          },
          "colorscale": {
           "diverging": [
            [
             0,
             "#8e0152"
            ],
            [
             0.1,
             "#c51b7d"
            ],
            [
             0.2,
             "#de77ae"
            ],
            [
             0.3,
             "#f1b6da"
            ],
            [
             0.4,
             "#fde0ef"
            ],
            [
             0.5,
             "#f7f7f7"
            ],
            [
             0.6,
             "#e6f5d0"
            ],
            [
             0.7,
             "#b8e186"
            ],
            [
             0.8,
             "#7fbc41"
            ],
            [
             0.9,
             "#4d9221"
            ],
            [
             1,
             "#276419"
            ]
           ],
           "sequential": [
            [
             0,
             "#0d0887"
            ],
            [
             0.1111111111111111,
             "#46039f"
            ],
            [
             0.2222222222222222,
             "#7201a8"
            ],
            [
             0.3333333333333333,
             "#9c179e"
            ],
            [
             0.4444444444444444,
             "#bd3786"
            ],
            [
             0.5555555555555556,
             "#d8576b"
            ],
            [
             0.6666666666666666,
             "#ed7953"
            ],
            [
             0.7777777777777778,
             "#fb9f3a"
            ],
            [
             0.8888888888888888,
             "#fdca26"
            ],
            [
             1,
             "#f0f921"
            ]
           ],
           "sequentialminus": [
            [
             0,
             "#0d0887"
            ],
            [
             0.1111111111111111,
             "#46039f"
            ],
            [
             0.2222222222222222,
             "#7201a8"
            ],
            [
             0.3333333333333333,
             "#9c179e"
            ],
            [
             0.4444444444444444,
             "#bd3786"
            ],
            [
             0.5555555555555556,
             "#d8576b"
            ],
            [
             0.6666666666666666,
             "#ed7953"
            ],
            [
             0.7777777777777778,
             "#fb9f3a"
            ],
            [
             0.8888888888888888,
             "#fdca26"
            ],
            [
             1,
             "#f0f921"
            ]
           ]
          },
          "colorway": [
           "#636efa",
           "#EF553B",
           "#00cc96",
           "#ab63fa",
           "#FFA15A",
           "#19d3f3",
           "#FF6692",
           "#B6E880",
           "#FF97FF",
           "#FECB52"
          ],
          "font": {
           "color": "#2a3f5f"
          },
          "geo": {
           "bgcolor": "white",
           "lakecolor": "white",
           "landcolor": "#E5ECF6",
           "showlakes": true,
           "showland": true,
           "subunitcolor": "white"
          },
          "hoverlabel": {
           "align": "left"
          },
          "hovermode": "closest",
          "mapbox": {
           "style": "light"
          },
          "paper_bgcolor": "white",
          "plot_bgcolor": "#E5ECF6",
          "polar": {
           "angularaxis": {
            "gridcolor": "white",
            "linecolor": "white",
            "ticks": ""
           },
           "bgcolor": "#E5ECF6",
           "radialaxis": {
            "gridcolor": "white",
            "linecolor": "white",
            "ticks": ""
           }
          },
          "scene": {
           "xaxis": {
            "backgroundcolor": "#E5ECF6",
            "gridcolor": "white",
            "gridwidth": 2,
            "linecolor": "white",
            "showbackground": true,
            "ticks": "",
            "zerolinecolor": "white"
           },
           "yaxis": {
            "backgroundcolor": "#E5ECF6",
            "gridcolor": "white",
            "gridwidth": 2,
            "linecolor": "white",
            "showbackground": true,
            "ticks": "",
            "zerolinecolor": "white"
           },
           "zaxis": {
            "backgroundcolor": "#E5ECF6",
            "gridcolor": "white",
            "gridwidth": 2,
            "linecolor": "white",
            "showbackground": true,
            "ticks": "",
            "zerolinecolor": "white"
           }
          },
          "shapedefaults": {
           "line": {
            "color": "#2a3f5f"
           }
          },
          "ternary": {
           "aaxis": {
            "gridcolor": "white",
            "linecolor": "white",
            "ticks": ""
           },
           "baxis": {
            "gridcolor": "white",
            "linecolor": "white",
            "ticks": ""
           },
           "bgcolor": "#E5ECF6",
           "caxis": {
            "gridcolor": "white",
            "linecolor": "white",
            "ticks": ""
           }
          },
          "title": {
           "x": 0.05
          },
          "xaxis": {
           "automargin": true,
           "gridcolor": "white",
           "linecolor": "white",
           "ticks": "",
           "title": {
            "standoff": 15
           },
           "zerolinecolor": "white",
           "zerolinewidth": 2
          },
          "yaxis": {
           "automargin": true,
           "gridcolor": "white",
           "linecolor": "white",
           "ticks": "",
           "title": {
            "standoff": 15
           },
           "zerolinecolor": "white",
           "zerolinewidth": 2
          }
         }
        }
       }
      }
     },
     "metadata": {}
    }
   ],
   "metadata": {}
  },
  {
   "cell_type": "code",
   "execution_count": 4,
   "source": [
    "os.chdir(r'C:\\Users\\Anagha Shinde\\pythonProject\\AQI\\aqi\\static\\csv')\r\n",
    "df_cd = pd.read_csv('city_day.csv')\r\n",
    "df_ch = pd.read_csv('city_hour.csv')\r\n",
    "df_sd = pd.read_csv('station_day.csv')\r\n",
    "#df_sh = pd.read_csv('station_hour.csv')\r\n",
    "df_st = pd.read_csv('stations.csv')"
   ],
   "outputs": [],
   "metadata": {}
  },
  {
   "cell_type": "code",
   "execution_count": 5,
   "source": [
    "df_cd.head()"
   ],
   "outputs": [
    {
     "output_type": "execute_result",
     "data": {
      "text/html": [
       "<div>\n",
       "<style scoped>\n",
       "    .dataframe tbody tr th:only-of-type {\n",
       "        vertical-align: middle;\n",
       "    }\n",
       "\n",
       "    .dataframe tbody tr th {\n",
       "        vertical-align: top;\n",
       "    }\n",
       "\n",
       "    .dataframe thead th {\n",
       "        text-align: right;\n",
       "    }\n",
       "</style>\n",
       "<table border=\"1\" class=\"dataframe\">\n",
       "  <thead>\n",
       "    <tr style=\"text-align: right;\">\n",
       "      <th></th>\n",
       "      <th>City</th>\n",
       "      <th>Date</th>\n",
       "      <th>PM2.5</th>\n",
       "      <th>PM10</th>\n",
       "      <th>NO</th>\n",
       "      <th>NO2</th>\n",
       "      <th>NOx</th>\n",
       "      <th>NH3</th>\n",
       "      <th>CO</th>\n",
       "      <th>SO2</th>\n",
       "      <th>O3</th>\n",
       "      <th>Benzene</th>\n",
       "      <th>Toluene</th>\n",
       "      <th>Xylene</th>\n",
       "      <th>AQI</th>\n",
       "      <th>AQI_Bucket</th>\n",
       "    </tr>\n",
       "  </thead>\n",
       "  <tbody>\n",
       "    <tr>\n",
       "      <th>0</th>\n",
       "      <td>Ahmedabad</td>\n",
       "      <td>2015-01-01</td>\n",
       "      <td>NaN</td>\n",
       "      <td>NaN</td>\n",
       "      <td>0.92</td>\n",
       "      <td>18.22</td>\n",
       "      <td>17.15</td>\n",
       "      <td>NaN</td>\n",
       "      <td>0.92</td>\n",
       "      <td>27.64</td>\n",
       "      <td>133.36</td>\n",
       "      <td>0.00</td>\n",
       "      <td>0.02</td>\n",
       "      <td>0.00</td>\n",
       "      <td>NaN</td>\n",
       "      <td>NaN</td>\n",
       "    </tr>\n",
       "    <tr>\n",
       "      <th>1</th>\n",
       "      <td>Ahmedabad</td>\n",
       "      <td>2015-01-02</td>\n",
       "      <td>NaN</td>\n",
       "      <td>NaN</td>\n",
       "      <td>0.97</td>\n",
       "      <td>15.69</td>\n",
       "      <td>16.46</td>\n",
       "      <td>NaN</td>\n",
       "      <td>0.97</td>\n",
       "      <td>24.55</td>\n",
       "      <td>34.06</td>\n",
       "      <td>3.68</td>\n",
       "      <td>5.50</td>\n",
       "      <td>3.77</td>\n",
       "      <td>NaN</td>\n",
       "      <td>NaN</td>\n",
       "    </tr>\n",
       "    <tr>\n",
       "      <th>2</th>\n",
       "      <td>Ahmedabad</td>\n",
       "      <td>2015-01-03</td>\n",
       "      <td>NaN</td>\n",
       "      <td>NaN</td>\n",
       "      <td>17.40</td>\n",
       "      <td>19.30</td>\n",
       "      <td>29.70</td>\n",
       "      <td>NaN</td>\n",
       "      <td>17.40</td>\n",
       "      <td>29.07</td>\n",
       "      <td>30.70</td>\n",
       "      <td>6.80</td>\n",
       "      <td>16.40</td>\n",
       "      <td>2.25</td>\n",
       "      <td>NaN</td>\n",
       "      <td>NaN</td>\n",
       "    </tr>\n",
       "    <tr>\n",
       "      <th>3</th>\n",
       "      <td>Ahmedabad</td>\n",
       "      <td>2015-01-04</td>\n",
       "      <td>NaN</td>\n",
       "      <td>NaN</td>\n",
       "      <td>1.70</td>\n",
       "      <td>18.48</td>\n",
       "      <td>17.97</td>\n",
       "      <td>NaN</td>\n",
       "      <td>1.70</td>\n",
       "      <td>18.59</td>\n",
       "      <td>36.08</td>\n",
       "      <td>4.43</td>\n",
       "      <td>10.14</td>\n",
       "      <td>1.00</td>\n",
       "      <td>NaN</td>\n",
       "      <td>NaN</td>\n",
       "    </tr>\n",
       "    <tr>\n",
       "      <th>4</th>\n",
       "      <td>Ahmedabad</td>\n",
       "      <td>2015-01-05</td>\n",
       "      <td>NaN</td>\n",
       "      <td>NaN</td>\n",
       "      <td>22.10</td>\n",
       "      <td>21.42</td>\n",
       "      <td>37.76</td>\n",
       "      <td>NaN</td>\n",
       "      <td>22.10</td>\n",
       "      <td>39.33</td>\n",
       "      <td>39.31</td>\n",
       "      <td>7.01</td>\n",
       "      <td>18.89</td>\n",
       "      <td>2.78</td>\n",
       "      <td>NaN</td>\n",
       "      <td>NaN</td>\n",
       "    </tr>\n",
       "  </tbody>\n",
       "</table>\n",
       "</div>"
      ],
      "text/plain": [
       "        City        Date  PM2.5  PM10     NO    NO2    NOx  NH3     CO    SO2  \\\n",
       "0  Ahmedabad  2015-01-01    NaN   NaN   0.92  18.22  17.15  NaN   0.92  27.64   \n",
       "1  Ahmedabad  2015-01-02    NaN   NaN   0.97  15.69  16.46  NaN   0.97  24.55   \n",
       "2  Ahmedabad  2015-01-03    NaN   NaN  17.40  19.30  29.70  NaN  17.40  29.07   \n",
       "3  Ahmedabad  2015-01-04    NaN   NaN   1.70  18.48  17.97  NaN   1.70  18.59   \n",
       "4  Ahmedabad  2015-01-05    NaN   NaN  22.10  21.42  37.76  NaN  22.10  39.33   \n",
       "\n",
       "       O3  Benzene  Toluene  Xylene  AQI AQI_Bucket  \n",
       "0  133.36     0.00     0.02    0.00  NaN        NaN  \n",
       "1   34.06     3.68     5.50    3.77  NaN        NaN  \n",
       "2   30.70     6.80    16.40    2.25  NaN        NaN  \n",
       "3   36.08     4.43    10.14    1.00  NaN        NaN  \n",
       "4   39.31     7.01    18.89    2.78  NaN        NaN  "
      ]
     },
     "metadata": {},
     "execution_count": 5
    }
   ],
   "metadata": {}
  },
  {
   "cell_type": "code",
   "execution_count": 6,
   "source": [
    "df_ch.head()"
   ],
   "outputs": [
    {
     "output_type": "execute_result",
     "data": {
      "text/html": [
       "<div>\n",
       "<style scoped>\n",
       "    .dataframe tbody tr th:only-of-type {\n",
       "        vertical-align: middle;\n",
       "    }\n",
       "\n",
       "    .dataframe tbody tr th {\n",
       "        vertical-align: top;\n",
       "    }\n",
       "\n",
       "    .dataframe thead th {\n",
       "        text-align: right;\n",
       "    }\n",
       "</style>\n",
       "<table border=\"1\" class=\"dataframe\">\n",
       "  <thead>\n",
       "    <tr style=\"text-align: right;\">\n",
       "      <th></th>\n",
       "      <th>City</th>\n",
       "      <th>Datetime</th>\n",
       "      <th>PM2.5</th>\n",
       "      <th>PM10</th>\n",
       "      <th>NO</th>\n",
       "      <th>NO2</th>\n",
       "      <th>NOx</th>\n",
       "      <th>NH3</th>\n",
       "      <th>CO</th>\n",
       "      <th>SO2</th>\n",
       "      <th>O3</th>\n",
       "      <th>Benzene</th>\n",
       "      <th>Toluene</th>\n",
       "      <th>Xylene</th>\n",
       "      <th>AQI</th>\n",
       "      <th>AQI_Bucket</th>\n",
       "    </tr>\n",
       "  </thead>\n",
       "  <tbody>\n",
       "    <tr>\n",
       "      <th>0</th>\n",
       "      <td>Ahmedabad</td>\n",
       "      <td>2015-01-01 01:00:00</td>\n",
       "      <td>NaN</td>\n",
       "      <td>NaN</td>\n",
       "      <td>1.00</td>\n",
       "      <td>40.01</td>\n",
       "      <td>36.37</td>\n",
       "      <td>NaN</td>\n",
       "      <td>1.00</td>\n",
       "      <td>122.07</td>\n",
       "      <td>NaN</td>\n",
       "      <td>0.0</td>\n",
       "      <td>0.0</td>\n",
       "      <td>0.0</td>\n",
       "      <td>NaN</td>\n",
       "      <td>NaN</td>\n",
       "    </tr>\n",
       "    <tr>\n",
       "      <th>1</th>\n",
       "      <td>Ahmedabad</td>\n",
       "      <td>2015-01-01 02:00:00</td>\n",
       "      <td>NaN</td>\n",
       "      <td>NaN</td>\n",
       "      <td>0.02</td>\n",
       "      <td>27.75</td>\n",
       "      <td>19.73</td>\n",
       "      <td>NaN</td>\n",
       "      <td>0.02</td>\n",
       "      <td>85.90</td>\n",
       "      <td>NaN</td>\n",
       "      <td>0.0</td>\n",
       "      <td>0.0</td>\n",
       "      <td>0.0</td>\n",
       "      <td>NaN</td>\n",
       "      <td>NaN</td>\n",
       "    </tr>\n",
       "    <tr>\n",
       "      <th>2</th>\n",
       "      <td>Ahmedabad</td>\n",
       "      <td>2015-01-01 03:00:00</td>\n",
       "      <td>NaN</td>\n",
       "      <td>NaN</td>\n",
       "      <td>0.08</td>\n",
       "      <td>19.32</td>\n",
       "      <td>11.08</td>\n",
       "      <td>NaN</td>\n",
       "      <td>0.08</td>\n",
       "      <td>52.83</td>\n",
       "      <td>NaN</td>\n",
       "      <td>0.0</td>\n",
       "      <td>0.0</td>\n",
       "      <td>0.0</td>\n",
       "      <td>NaN</td>\n",
       "      <td>NaN</td>\n",
       "    </tr>\n",
       "    <tr>\n",
       "      <th>3</th>\n",
       "      <td>Ahmedabad</td>\n",
       "      <td>2015-01-01 04:00:00</td>\n",
       "      <td>NaN</td>\n",
       "      <td>NaN</td>\n",
       "      <td>0.30</td>\n",
       "      <td>16.45</td>\n",
       "      <td>9.20</td>\n",
       "      <td>NaN</td>\n",
       "      <td>0.30</td>\n",
       "      <td>39.53</td>\n",
       "      <td>153.58</td>\n",
       "      <td>0.0</td>\n",
       "      <td>0.0</td>\n",
       "      <td>0.0</td>\n",
       "      <td>NaN</td>\n",
       "      <td>NaN</td>\n",
       "    </tr>\n",
       "    <tr>\n",
       "      <th>4</th>\n",
       "      <td>Ahmedabad</td>\n",
       "      <td>2015-01-01 05:00:00</td>\n",
       "      <td>NaN</td>\n",
       "      <td>NaN</td>\n",
       "      <td>0.12</td>\n",
       "      <td>14.90</td>\n",
       "      <td>7.85</td>\n",
       "      <td>NaN</td>\n",
       "      <td>0.12</td>\n",
       "      <td>32.63</td>\n",
       "      <td>NaN</td>\n",
       "      <td>0.0</td>\n",
       "      <td>0.0</td>\n",
       "      <td>0.0</td>\n",
       "      <td>NaN</td>\n",
       "      <td>NaN</td>\n",
       "    </tr>\n",
       "  </tbody>\n",
       "</table>\n",
       "</div>"
      ],
      "text/plain": [
       "        City             Datetime  PM2.5  PM10    NO    NO2    NOx  NH3    CO  \\\n",
       "0  Ahmedabad  2015-01-01 01:00:00    NaN   NaN  1.00  40.01  36.37  NaN  1.00   \n",
       "1  Ahmedabad  2015-01-01 02:00:00    NaN   NaN  0.02  27.75  19.73  NaN  0.02   \n",
       "2  Ahmedabad  2015-01-01 03:00:00    NaN   NaN  0.08  19.32  11.08  NaN  0.08   \n",
       "3  Ahmedabad  2015-01-01 04:00:00    NaN   NaN  0.30  16.45   9.20  NaN  0.30   \n",
       "4  Ahmedabad  2015-01-01 05:00:00    NaN   NaN  0.12  14.90   7.85  NaN  0.12   \n",
       "\n",
       "      SO2      O3  Benzene  Toluene  Xylene  AQI AQI_Bucket  \n",
       "0  122.07     NaN      0.0      0.0     0.0  NaN        NaN  \n",
       "1   85.90     NaN      0.0      0.0     0.0  NaN        NaN  \n",
       "2   52.83     NaN      0.0      0.0     0.0  NaN        NaN  \n",
       "3   39.53  153.58      0.0      0.0     0.0  NaN        NaN  \n",
       "4   32.63     NaN      0.0      0.0     0.0  NaN        NaN  "
      ]
     },
     "metadata": {},
     "execution_count": 6
    }
   ],
   "metadata": {}
  },
  {
   "cell_type": "code",
   "execution_count": 7,
   "source": [
    "df_sd.head()"
   ],
   "outputs": [
    {
     "output_type": "execute_result",
     "data": {
      "text/html": [
       "<div>\n",
       "<style scoped>\n",
       "    .dataframe tbody tr th:only-of-type {\n",
       "        vertical-align: middle;\n",
       "    }\n",
       "\n",
       "    .dataframe tbody tr th {\n",
       "        vertical-align: top;\n",
       "    }\n",
       "\n",
       "    .dataframe thead th {\n",
       "        text-align: right;\n",
       "    }\n",
       "</style>\n",
       "<table border=\"1\" class=\"dataframe\">\n",
       "  <thead>\n",
       "    <tr style=\"text-align: right;\">\n",
       "      <th></th>\n",
       "      <th>StationId</th>\n",
       "      <th>Date</th>\n",
       "      <th>PM2.5</th>\n",
       "      <th>PM10</th>\n",
       "      <th>NO</th>\n",
       "      <th>NO2</th>\n",
       "      <th>NOx</th>\n",
       "      <th>NH3</th>\n",
       "      <th>CO</th>\n",
       "      <th>SO2</th>\n",
       "      <th>O3</th>\n",
       "      <th>Benzene</th>\n",
       "      <th>Toluene</th>\n",
       "      <th>Xylene</th>\n",
       "      <th>AQI</th>\n",
       "      <th>AQI_Bucket</th>\n",
       "    </tr>\n",
       "  </thead>\n",
       "  <tbody>\n",
       "    <tr>\n",
       "      <th>0</th>\n",
       "      <td>AP001</td>\n",
       "      <td>2017-11-24</td>\n",
       "      <td>71.36</td>\n",
       "      <td>115.75</td>\n",
       "      <td>1.75</td>\n",
       "      <td>20.65</td>\n",
       "      <td>12.40</td>\n",
       "      <td>12.19</td>\n",
       "      <td>0.10</td>\n",
       "      <td>10.76</td>\n",
       "      <td>109.26</td>\n",
       "      <td>0.17</td>\n",
       "      <td>5.92</td>\n",
       "      <td>0.10</td>\n",
       "      <td>NaN</td>\n",
       "      <td>NaN</td>\n",
       "    </tr>\n",
       "    <tr>\n",
       "      <th>1</th>\n",
       "      <td>AP001</td>\n",
       "      <td>2017-11-25</td>\n",
       "      <td>81.40</td>\n",
       "      <td>124.50</td>\n",
       "      <td>1.44</td>\n",
       "      <td>20.50</td>\n",
       "      <td>12.08</td>\n",
       "      <td>10.72</td>\n",
       "      <td>0.12</td>\n",
       "      <td>15.24</td>\n",
       "      <td>127.09</td>\n",
       "      <td>0.20</td>\n",
       "      <td>6.50</td>\n",
       "      <td>0.06</td>\n",
       "      <td>184.0</td>\n",
       "      <td>Moderate</td>\n",
       "    </tr>\n",
       "    <tr>\n",
       "      <th>2</th>\n",
       "      <td>AP001</td>\n",
       "      <td>2017-11-26</td>\n",
       "      <td>78.32</td>\n",
       "      <td>129.06</td>\n",
       "      <td>1.26</td>\n",
       "      <td>26.00</td>\n",
       "      <td>14.85</td>\n",
       "      <td>10.28</td>\n",
       "      <td>0.14</td>\n",
       "      <td>26.96</td>\n",
       "      <td>117.44</td>\n",
       "      <td>0.22</td>\n",
       "      <td>7.95</td>\n",
       "      <td>0.08</td>\n",
       "      <td>197.0</td>\n",
       "      <td>Moderate</td>\n",
       "    </tr>\n",
       "    <tr>\n",
       "      <th>3</th>\n",
       "      <td>AP001</td>\n",
       "      <td>2017-11-27</td>\n",
       "      <td>88.76</td>\n",
       "      <td>135.32</td>\n",
       "      <td>6.60</td>\n",
       "      <td>30.85</td>\n",
       "      <td>21.77</td>\n",
       "      <td>12.91</td>\n",
       "      <td>0.11</td>\n",
       "      <td>33.59</td>\n",
       "      <td>111.81</td>\n",
       "      <td>0.29</td>\n",
       "      <td>7.63</td>\n",
       "      <td>0.12</td>\n",
       "      <td>198.0</td>\n",
       "      <td>Moderate</td>\n",
       "    </tr>\n",
       "    <tr>\n",
       "      <th>4</th>\n",
       "      <td>AP001</td>\n",
       "      <td>2017-11-28</td>\n",
       "      <td>64.18</td>\n",
       "      <td>104.09</td>\n",
       "      <td>2.56</td>\n",
       "      <td>28.07</td>\n",
       "      <td>17.01</td>\n",
       "      <td>11.42</td>\n",
       "      <td>0.09</td>\n",
       "      <td>19.00</td>\n",
       "      <td>138.18</td>\n",
       "      <td>0.17</td>\n",
       "      <td>5.02</td>\n",
       "      <td>0.07</td>\n",
       "      <td>188.0</td>\n",
       "      <td>Moderate</td>\n",
       "    </tr>\n",
       "  </tbody>\n",
       "</table>\n",
       "</div>"
      ],
      "text/plain": [
       "  StationId        Date  PM2.5    PM10    NO    NO2    NOx    NH3    CO  \\\n",
       "0     AP001  2017-11-24  71.36  115.75  1.75  20.65  12.40  12.19  0.10   \n",
       "1     AP001  2017-11-25  81.40  124.50  1.44  20.50  12.08  10.72  0.12   \n",
       "2     AP001  2017-11-26  78.32  129.06  1.26  26.00  14.85  10.28  0.14   \n",
       "3     AP001  2017-11-27  88.76  135.32  6.60  30.85  21.77  12.91  0.11   \n",
       "4     AP001  2017-11-28  64.18  104.09  2.56  28.07  17.01  11.42  0.09   \n",
       "\n",
       "     SO2      O3  Benzene  Toluene  Xylene    AQI AQI_Bucket  \n",
       "0  10.76  109.26     0.17     5.92    0.10    NaN        NaN  \n",
       "1  15.24  127.09     0.20     6.50    0.06  184.0   Moderate  \n",
       "2  26.96  117.44     0.22     7.95    0.08  197.0   Moderate  \n",
       "3  33.59  111.81     0.29     7.63    0.12  198.0   Moderate  \n",
       "4  19.00  138.18     0.17     5.02    0.07  188.0   Moderate  "
      ]
     },
     "metadata": {},
     "execution_count": 7
    }
   ],
   "metadata": {}
  },
  {
   "cell_type": "code",
   "execution_count": 8,
   "source": [
    "df_st.head()"
   ],
   "outputs": [
    {
     "output_type": "execute_result",
     "data": {
      "text/html": [
       "<div>\n",
       "<style scoped>\n",
       "    .dataframe tbody tr th:only-of-type {\n",
       "        vertical-align: middle;\n",
       "    }\n",
       "\n",
       "    .dataframe tbody tr th {\n",
       "        vertical-align: top;\n",
       "    }\n",
       "\n",
       "    .dataframe thead th {\n",
       "        text-align: right;\n",
       "    }\n",
       "</style>\n",
       "<table border=\"1\" class=\"dataframe\">\n",
       "  <thead>\n",
       "    <tr style=\"text-align: right;\">\n",
       "      <th></th>\n",
       "      <th>Unnamed: 0</th>\n",
       "      <th>StationId</th>\n",
       "      <th>StationName</th>\n",
       "      <th>City</th>\n",
       "      <th>State</th>\n",
       "      <th>Status</th>\n",
       "      <th>Latitude</th>\n",
       "      <th>Longitude</th>\n",
       "    </tr>\n",
       "  </thead>\n",
       "  <tbody>\n",
       "    <tr>\n",
       "      <th>0</th>\n",
       "      <td>0</td>\n",
       "      <td>AP001</td>\n",
       "      <td>Secretariat, Amaravati - APPCB</td>\n",
       "      <td>Amaravati</td>\n",
       "      <td>Andhra Pradesh</td>\n",
       "      <td>Active</td>\n",
       "      <td>16.5151</td>\n",
       "      <td>80.5182</td>\n",
       "    </tr>\n",
       "    <tr>\n",
       "      <th>1</th>\n",
       "      <td>1</td>\n",
       "      <td>AP002</td>\n",
       "      <td>Anand Kala Kshetram, Rajamahendravaram - APPCB</td>\n",
       "      <td>Rajamahendravaram</td>\n",
       "      <td>Andhra Pradesh</td>\n",
       "      <td>NaN</td>\n",
       "      <td>16.9873</td>\n",
       "      <td>81.7363</td>\n",
       "    </tr>\n",
       "    <tr>\n",
       "      <th>2</th>\n",
       "      <td>2</td>\n",
       "      <td>AP003</td>\n",
       "      <td>Tirumala, Tirupati - APPCB</td>\n",
       "      <td>Tirupati</td>\n",
       "      <td>Andhra Pradesh</td>\n",
       "      <td>NaN</td>\n",
       "      <td>13.6288</td>\n",
       "      <td>79.4192</td>\n",
       "    </tr>\n",
       "    <tr>\n",
       "      <th>3</th>\n",
       "      <td>3</td>\n",
       "      <td>AP004</td>\n",
       "      <td>PWD Grounds, Vijayawada - APPCB</td>\n",
       "      <td>Vijayawada</td>\n",
       "      <td>Andhra Pradesh</td>\n",
       "      <td>NaN</td>\n",
       "      <td>16.5064</td>\n",
       "      <td>80.6320</td>\n",
       "    </tr>\n",
       "    <tr>\n",
       "      <th>4</th>\n",
       "      <td>4</td>\n",
       "      <td>AP005</td>\n",
       "      <td>GVM Corporation, Visakhapatnam - APPCB</td>\n",
       "      <td>Visakhapatnam</td>\n",
       "      <td>Andhra Pradesh</td>\n",
       "      <td>Active</td>\n",
       "      <td>17.72</td>\n",
       "      <td>83.3000</td>\n",
       "    </tr>\n",
       "  </tbody>\n",
       "</table>\n",
       "</div>"
      ],
      "text/plain": [
       "   Unnamed: 0 StationId                                     StationName  \\\n",
       "0           0     AP001                  Secretariat, Amaravati - APPCB   \n",
       "1           1     AP002  Anand Kala Kshetram, Rajamahendravaram - APPCB   \n",
       "2           2     AP003                      Tirumala, Tirupati - APPCB   \n",
       "3           3     AP004                 PWD Grounds, Vijayawada - APPCB   \n",
       "4           4     AP005          GVM Corporation, Visakhapatnam - APPCB   \n",
       "\n",
       "                City           State  Status Latitude  Longitude  \n",
       "0          Amaravati  Andhra Pradesh  Active  16.5151    80.5182  \n",
       "1  Rajamahendravaram  Andhra Pradesh     NaN  16.9873    81.7363  \n",
       "2           Tirupati  Andhra Pradesh     NaN  13.6288    79.4192  \n",
       "3         Vijayawada  Andhra Pradesh     NaN  16.5064    80.6320  \n",
       "4      Visakhapatnam  Andhra Pradesh  Active    17.72    83.3000  "
      ]
     },
     "metadata": {},
     "execution_count": 8
    }
   ],
   "metadata": {}
  },
  {
   "cell_type": "code",
   "execution_count": 9,
   "source": [
    "group = df_st.groupby(['State','Status'],as_index=False)['StationId'].count()\r\n",
    "group.sort_values(['StationId'],inplace=True,ascending=False)\r\n",
    "fig = go.Figure()\r\n",
    "active = group[group['Status']=='Active']\r\n",
    "fig.add_trace(go.Bar(x=active.State,y=active.StationId,name='Active',\r\n",
    "                     marker_color='rgb(119, 221, 119)',\r\n",
    "                     marker_line_color='black',\r\n",
    "                     marker_line_width=1.5, \r\n",
    "                     opacity=0.9\r\n",
    "                    ))\r\n",
    "na = group[group['Status']=='NA']\r\n",
    "fig.add_trace(go.Bar(x=na.State,y=na.StationId,name='NA',\r\n",
    "                     marker_color='rgb(119, 158, 203)',\r\n",
    "                     marker_line_color='black',\r\n",
    "                     marker_line_width=1.5, \r\n",
    "                     opacity=0.9\r\n",
    "                    ))\r\n",
    "inactive = group[group['Status']=='Inactive']\r\n",
    "fig.add_trace(go.Bar(x=inactive.State,y=inactive.StationId,name='Inactive',\r\n",
    "                     marker_color='rgb(254, 107, 100)',\r\n",
    "                     marker_line_color='black',\r\n",
    "                     marker_line_width=1.5, \r\n",
    "                     opacity=0.9\r\n",
    "                    ))\r\n",
    "fig.update_xaxes(showgrid=False)\r\n",
    "fig.update_layout(height=300,template='ggplot2',barmode='stack',title='AQI Stations per City',\r\n",
    "                  hovermode='x',\r\n",
    "                  paper_bgcolor=BGCOLOR,plot_bgcolor='lightgray',margin=dict(l=20,r=20,t=40,b=20))\r\n",
    "fig.show()"
   ],
   "outputs": [
    {
     "output_type": "display_data",
     "data": {
      "application/vnd.plotly.v1+json": {
       "config": {
        "plotlyServerURL": "https://plot.ly"
       },
       "data": [
        {
         "marker": {
          "color": "rgb(119, 221, 119)",
          "line": {
           "color": "black",
           "width": 1.5
          }
         },
         "name": "Active",
         "opacity": 0.9,
         "type": "bar",
         "x": [
          "Delhi",
          "Haryana",
          "Maharashtra",
          "Karnataka",
          "West Bengal",
          "Bihar",
          "Telangana",
          "Tamil Nadu",
          "Uttar Pradesh",
          "Rajasthan",
          "Odisha",
          "Andhra Pradesh",
          "Kerala",
          "Assam",
          "Meghalaya",
          "Mizoram",
          "Punjab",
          "Jharkhand",
          "Gujarat",
          "Chandigarh",
          "Madhya Pradesh"
         ],
         "y": [
          37,
          29,
          10,
          10,
          7,
          6,
          6,
          5,
          4,
          3,
          2,
          2,
          2,
          1,
          1,
          1,
          1,
          1,
          1,
          1,
          1
         ]
        },
        {
         "marker": {
          "color": "rgb(119, 158, 203)",
          "line": {
           "color": "black",
           "width": 1.5
          }
         },
         "name": "NA",
         "opacity": 0.9,
         "type": "bar",
         "x": [],
         "y": []
        },
        {
         "marker": {
          "color": "rgb(254, 107, 100)",
          "line": {
           "color": "black",
           "width": 1.5
          }
         },
         "name": "Inactive",
         "opacity": 0.9,
         "type": "bar",
         "x": [
          "Delhi",
          "Uttar Pradesh"
         ],
         "y": [
          1,
          1
         ]
        }
       ],
       "layout": {
        "barmode": "stack",
        "height": 300,
        "hovermode": "x",
        "margin": {
         "b": 20,
         "l": 20,
         "r": 20,
         "t": 40
        },
        "paper_bgcolor": "LightSteelBlue",
        "plot_bgcolor": "lightgray",
        "template": {
         "data": {
          "bar": [
           {
            "error_x": {
             "color": "rgb(51,51,51)"
            },
            "error_y": {
             "color": "rgb(51,51,51)"
            },
            "marker": {
             "line": {
              "color": "rgb(237,237,237)",
              "width": 0.5
             },
             "pattern": {
              "fillmode": "overlay",
              "size": 10,
              "solidity": 0.2
             }
            },
            "type": "bar"
           }
          ],
          "barpolar": [
           {
            "marker": {
             "line": {
              "color": "rgb(237,237,237)",
              "width": 0.5
             },
             "pattern": {
              "fillmode": "overlay",
              "size": 10,
              "solidity": 0.2
             }
            },
            "type": "barpolar"
           }
          ],
          "carpet": [
           {
            "aaxis": {
             "endlinecolor": "rgb(51,51,51)",
             "gridcolor": "white",
             "linecolor": "white",
             "minorgridcolor": "white",
             "startlinecolor": "rgb(51,51,51)"
            },
            "baxis": {
             "endlinecolor": "rgb(51,51,51)",
             "gridcolor": "white",
             "linecolor": "white",
             "minorgridcolor": "white",
             "startlinecolor": "rgb(51,51,51)"
            },
            "type": "carpet"
           }
          ],
          "choropleth": [
           {
            "colorbar": {
             "outlinewidth": 0,
             "tickcolor": "rgb(237,237,237)",
             "ticklen": 6,
             "ticks": "inside"
            },
            "type": "choropleth"
           }
          ],
          "contour": [
           {
            "colorbar": {
             "outlinewidth": 0,
             "tickcolor": "rgb(237,237,237)",
             "ticklen": 6,
             "ticks": "inside"
            },
            "colorscale": [
             [
              0,
              "rgb(20,44,66)"
             ],
             [
              1,
              "rgb(90,179,244)"
             ]
            ],
            "type": "contour"
           }
          ],
          "contourcarpet": [
           {
            "colorbar": {
             "outlinewidth": 0,
             "tickcolor": "rgb(237,237,237)",
             "ticklen": 6,
             "ticks": "inside"
            },
            "type": "contourcarpet"
           }
          ],
          "heatmap": [
           {
            "colorbar": {
             "outlinewidth": 0,
             "tickcolor": "rgb(237,237,237)",
             "ticklen": 6,
             "ticks": "inside"
            },
            "colorscale": [
             [
              0,
              "rgb(20,44,66)"
             ],
             [
              1,
              "rgb(90,179,244)"
             ]
            ],
            "type": "heatmap"
           }
          ],
          "heatmapgl": [
           {
            "colorbar": {
             "outlinewidth": 0,
             "tickcolor": "rgb(237,237,237)",
             "ticklen": 6,
             "ticks": "inside"
            },
            "colorscale": [
             [
              0,
              "rgb(20,44,66)"
             ],
             [
              1,
              "rgb(90,179,244)"
             ]
            ],
            "type": "heatmapgl"
           }
          ],
          "histogram": [
           {
            "marker": {
             "pattern": {
              "fillmode": "overlay",
              "size": 10,
              "solidity": 0.2
             }
            },
            "type": "histogram"
           }
          ],
          "histogram2d": [
           {
            "colorbar": {
             "outlinewidth": 0,
             "tickcolor": "rgb(237,237,237)",
             "ticklen": 6,
             "ticks": "inside"
            },
            "colorscale": [
             [
              0,
              "rgb(20,44,66)"
             ],
             [
              1,
              "rgb(90,179,244)"
             ]
            ],
            "type": "histogram2d"
           }
          ],
          "histogram2dcontour": [
           {
            "colorbar": {
             "outlinewidth": 0,
             "tickcolor": "rgb(237,237,237)",
             "ticklen": 6,
             "ticks": "inside"
            },
            "colorscale": [
             [
              0,
              "rgb(20,44,66)"
             ],
             [
              1,
              "rgb(90,179,244)"
             ]
            ],
            "type": "histogram2dcontour"
           }
          ],
          "mesh3d": [
           {
            "colorbar": {
             "outlinewidth": 0,
             "tickcolor": "rgb(237,237,237)",
             "ticklen": 6,
             "ticks": "inside"
            },
            "type": "mesh3d"
           }
          ],
          "parcoords": [
           {
            "line": {
             "colorbar": {
              "outlinewidth": 0,
              "tickcolor": "rgb(237,237,237)",
              "ticklen": 6,
              "ticks": "inside"
             }
            },
            "type": "parcoords"
           }
          ],
          "pie": [
           {
            "automargin": true,
            "type": "pie"
           }
          ],
          "scatter": [
           {
            "marker": {
             "colorbar": {
              "outlinewidth": 0,
              "tickcolor": "rgb(237,237,237)",
              "ticklen": 6,
              "ticks": "inside"
             }
            },
            "type": "scatter"
           }
          ],
          "scatter3d": [
           {
            "line": {
             "colorbar": {
              "outlinewidth": 0,
              "tickcolor": "rgb(237,237,237)",
              "ticklen": 6,
              "ticks": "inside"
             }
            },
            "marker": {
             "colorbar": {
              "outlinewidth": 0,
              "tickcolor": "rgb(237,237,237)",
              "ticklen": 6,
              "ticks": "inside"
             }
            },
            "type": "scatter3d"
           }
          ],
          "scattercarpet": [
           {
            "marker": {
             "colorbar": {
              "outlinewidth": 0,
              "tickcolor": "rgb(237,237,237)",
              "ticklen": 6,
              "ticks": "inside"
             }
            },
            "type": "scattercarpet"
           }
          ],
          "scattergeo": [
           {
            "marker": {
             "colorbar": {
              "outlinewidth": 0,
              "tickcolor": "rgb(237,237,237)",
              "ticklen": 6,
              "ticks": "inside"
             }
            },
            "type": "scattergeo"
           }
          ],
          "scattergl": [
           {
            "marker": {
             "colorbar": {
              "outlinewidth": 0,
              "tickcolor": "rgb(237,237,237)",
              "ticklen": 6,
              "ticks": "inside"
             }
            },
            "type": "scattergl"
           }
          ],
          "scattermapbox": [
           {
            "marker": {
             "colorbar": {
              "outlinewidth": 0,
              "tickcolor": "rgb(237,237,237)",
              "ticklen": 6,
              "ticks": "inside"
             }
            },
            "type": "scattermapbox"
           }
          ],
          "scatterpolar": [
           {
            "marker": {
             "colorbar": {
              "outlinewidth": 0,
              "tickcolor": "rgb(237,237,237)",
              "ticklen": 6,
              "ticks": "inside"
             }
            },
            "type": "scatterpolar"
           }
          ],
          "scatterpolargl": [
           {
            "marker": {
             "colorbar": {
              "outlinewidth": 0,
              "tickcolor": "rgb(237,237,237)",
              "ticklen": 6,
              "ticks": "inside"
             }
            },
            "type": "scatterpolargl"
           }
          ],
          "scatterternary": [
           {
            "marker": {
             "colorbar": {
              "outlinewidth": 0,
              "tickcolor": "rgb(237,237,237)",
              "ticklen": 6,
              "ticks": "inside"
             }
            },
            "type": "scatterternary"
           }
          ],
          "surface": [
           {
            "colorbar": {
             "outlinewidth": 0,
             "tickcolor": "rgb(237,237,237)",
             "ticklen": 6,
             "ticks": "inside"
            },
            "colorscale": [
             [
              0,
              "rgb(20,44,66)"
             ],
             [
              1,
              "rgb(90,179,244)"
             ]
            ],
            "type": "surface"
           }
          ],
          "table": [
           {
            "cells": {
             "fill": {
              "color": "rgb(237,237,237)"
             },
             "line": {
              "color": "white"
             }
            },
            "header": {
             "fill": {
              "color": "rgb(217,217,217)"
             },
             "line": {
              "color": "white"
             }
            },
            "type": "table"
           }
          ]
         },
         "layout": {
          "annotationdefaults": {
           "arrowhead": 0,
           "arrowwidth": 1
          },
          "autotypenumbers": "strict",
          "coloraxis": {
           "colorbar": {
            "outlinewidth": 0,
            "tickcolor": "rgb(237,237,237)",
            "ticklen": 6,
            "ticks": "inside"
           }
          },
          "colorscale": {
           "sequential": [
            [
             0,
             "rgb(20,44,66)"
            ],
            [
             1,
             "rgb(90,179,244)"
            ]
           ],
           "sequentialminus": [
            [
             0,
             "rgb(20,44,66)"
            ],
            [
             1,
             "rgb(90,179,244)"
            ]
           ]
          },
          "colorway": [
           "#F8766D",
           "#A3A500",
           "#00BF7D",
           "#00B0F6",
           "#E76BF3"
          ],
          "font": {
           "color": "rgb(51,51,51)"
          },
          "geo": {
           "bgcolor": "white",
           "lakecolor": "white",
           "landcolor": "rgb(237,237,237)",
           "showlakes": true,
           "showland": true,
           "subunitcolor": "white"
          },
          "hoverlabel": {
           "align": "left"
          },
          "hovermode": "closest",
          "paper_bgcolor": "white",
          "plot_bgcolor": "rgb(237,237,237)",
          "polar": {
           "angularaxis": {
            "gridcolor": "white",
            "linecolor": "white",
            "showgrid": true,
            "tickcolor": "rgb(51,51,51)",
            "ticks": "outside"
           },
           "bgcolor": "rgb(237,237,237)",
           "radialaxis": {
            "gridcolor": "white",
            "linecolor": "white",
            "showgrid": true,
            "tickcolor": "rgb(51,51,51)",
            "ticks": "outside"
           }
          },
          "scene": {
           "xaxis": {
            "backgroundcolor": "rgb(237,237,237)",
            "gridcolor": "white",
            "gridwidth": 2,
            "linecolor": "white",
            "showbackground": true,
            "showgrid": true,
            "tickcolor": "rgb(51,51,51)",
            "ticks": "outside",
            "zerolinecolor": "white"
           },
           "yaxis": {
            "backgroundcolor": "rgb(237,237,237)",
            "gridcolor": "white",
            "gridwidth": 2,
            "linecolor": "white",
            "showbackground": true,
            "showgrid": true,
            "tickcolor": "rgb(51,51,51)",
            "ticks": "outside",
            "zerolinecolor": "white"
           },
           "zaxis": {
            "backgroundcolor": "rgb(237,237,237)",
            "gridcolor": "white",
            "gridwidth": 2,
            "linecolor": "white",
            "showbackground": true,
            "showgrid": true,
            "tickcolor": "rgb(51,51,51)",
            "ticks": "outside",
            "zerolinecolor": "white"
           }
          },
          "shapedefaults": {
           "fillcolor": "black",
           "line": {
            "width": 0
           },
           "opacity": 0.3
          },
          "ternary": {
           "aaxis": {
            "gridcolor": "white",
            "linecolor": "white",
            "showgrid": true,
            "tickcolor": "rgb(51,51,51)",
            "ticks": "outside"
           },
           "baxis": {
            "gridcolor": "white",
            "linecolor": "white",
            "showgrid": true,
            "tickcolor": "rgb(51,51,51)",
            "ticks": "outside"
           },
           "bgcolor": "rgb(237,237,237)",
           "caxis": {
            "gridcolor": "white",
            "linecolor": "white",
            "showgrid": true,
            "tickcolor": "rgb(51,51,51)",
            "ticks": "outside"
           }
          },
          "xaxis": {
           "automargin": true,
           "gridcolor": "white",
           "linecolor": "white",
           "showgrid": true,
           "tickcolor": "rgb(51,51,51)",
           "ticks": "outside",
           "title": {
            "standoff": 15
           },
           "zerolinecolor": "white"
          },
          "yaxis": {
           "automargin": true,
           "gridcolor": "white",
           "linecolor": "white",
           "showgrid": true,
           "tickcolor": "rgb(51,51,51)",
           "ticks": "outside",
           "title": {
            "standoff": 15
           },
           "zerolinecolor": "white"
          }
         }
        },
        "title": {
         "text": "AQI Stations per City"
        },
        "xaxis": {
         "showgrid": false
        }
       }
      }
     },
     "metadata": {}
    }
   ],
   "metadata": {}
  },
  {
   "cell_type": "code",
   "execution_count": 10,
   "source": [
    "df_ind = df_sd.copy()\r\n",
    "df_ind['Date'] = pd.to_datetime(df_ind['Date'],format='%Y-%m-%d')\r\n",
    "df_ind['Period'] = df_ind.apply(lambda x: 'Before' if (x['Date'] < dt.datetime(2020, 3, 23)) else 'After',axis=1)\r\n",
    "df_ind = df_ind.query('Date>=\"2020-01-01\"')\r\n",
    "df_ind = df_ind.groupby(['Period','StationId'],as_index=False)['AQI','PM2.5','PM10','O3','CO','SO2','NO2'].mean()\r\n",
    "df_ind = df_ind.merge(df_st[['StationId','StationName','State','Latitude','Longitude']],how='inner',on='StationId')\r\n",
    "\r\n",
    "def scale(aqiSeries):\r\n",
    "    cmax = aqiSeries.max()\r\n",
    "    cmin = aqiSeries.min()\r\n",
    "    dt = 1e-5\r\n",
    "    good = min((50-cmin)/(cmax-cmin)+dt,1.0)\r\n",
    "    satisfactory = min((100-cmin)/(cmax-cmin)+dt,1.0)\r\n",
    "    moderate = min((200-cmin)/(cmax-cmin)+dt,1.0)\r\n",
    "    poor = min((300-cmin)/(cmax-cmin)+dt,1.0)\r\n",
    "    very_poor = min((400-cmin)/(cmax-cmin)+dt,1.0)\r\n",
    "    severe = min((500-cmin)/(cmax-cmin)+dt,1.0)\r\n",
    "\r\n",
    "    colorcode = [good,satisfactory,moderate,poor,very_poor,severe]\r\n",
    "    colorcode = [0.0 if c<0 else c for c in colorcode]\r\n",
    "    colors = ['#77DD77','#33AF13','#F6D20E','#F17700','#FE6B64','#F12424']\r\n",
    "    scl = []\r\n",
    "    prev = 0\r\n",
    "    for i in range(len(colorcode)):\r\n",
    "        scl.extend([[prev,colors[i]],[colorcode[i],colors[i]]])\r\n",
    "        prev=colorcode[i]\r\n",
    "        if colorcode[i]==1.0: break\r\n",
    "    if scl[-1][0]!=1.0:\r\n",
    "        scl[-1][0]=1.0\r\n",
    "    \r\n",
    "    return scl"
   ],
   "outputs": [
    {
     "output_type": "stream",
     "name": "stderr",
     "text": [
      "<ipython-input-10-2fc4fc376215>:5: FutureWarning:\n",
      "\n",
      "Indexing with multiple keys (implicitly converted to a tuple of keys) will be deprecated, use a list instead.\n",
      "\n"
     ]
    }
   ],
   "metadata": {}
  },
  {
   "cell_type": "code",
   "execution_count": null,
   "source": [
    "# Web scraping code (do not run)"
   ],
   "outputs": [],
   "metadata": {}
  },
  {
   "cell_type": "code",
   "execution_count": null,
   "source": [
    "from selenium import webdriver\r\n",
    "from time import sleep\r\n",
    "import re\r\n",
    "\r\n",
    "options = webdriver.ChromeOptions()\r\n",
    "options.add_argument(\"--start-maximized\")\r\n",
    "options.add_argument('user-data-dir=' + r'')\r\n",
    "\r\n",
    "driver = webdriver.Chrome(\r\n",
    "    executable_path=r'',\r\n",
    "    options=options)\r\n",
    "driver.get('https://www.google.com/search?q=Secretariat, Amaravati - APPCB latitude')\r\n",
    "text = driver.find_element_by_xpath('//*[@id=\"rso\"]/div[1]/div/div[1]/div[1]/div[1]/div/div[2]/div').text\r\n",
    "latitude , longitude = re.findall(r\"[-+]?\\d*\\.?\\d+|[-+]?\\d+\",text)"
   ],
   "outputs": [],
   "metadata": {}
  },
  {
   "cell_type": "code",
   "execution_count": 12,
   "source": [
    "secret_value_1 = 'pk.eyJ1IjoibWVya2VuZGl6YXIiLCJhIjoiY2t0bndsOHJrMDBzMjJvbzQ0NjlybTc0eSJ9.5X4jIj0tANN07r6kPJdiqQ' "
   ],
   "outputs": [],
   "metadata": {}
  },
  {
   "cell_type": "code",
   "execution_count": 13,
   "source": [
    "def fill_coordinates(row):\r\n",
    "    try:\r\n",
    "        try:\r\n",
    "            driver.get('https://www.google.com/search?q={} coordinates'.format(row.StationName))\r\n",
    "            sleep(1)\r\n",
    "            text = driver.find_element_by_xpath('//*[@id=\"rso\"]/div[1]/div/div[1]/div[1]/div[1]/div/div[2]/div').text\r\n",
    "        except:\r\n",
    "            driver.get('https://www.google.com/search?q={} coordinates'.format(row.StationName.split('-')[0]))\r\n",
    "            sleep(1)\r\n",
    "            text = driver.find_element_by_xpath('//*[@id=\"rso\"]/div[1]/div/div[1]/div[1]/div[1]/div/div[2]/div').text\r\n",
    "\r\n",
    "        row.Latitude, row.Longitude = re.findall(r\"[-+]?\\d*\\.?\\d+|[-+]?\\d+\",text)\r\n",
    "        print(row.Latitude, row.Longitude)\r\n",
    "    except:\r\n",
    "        pass\r\n",
    "    return row"
   ],
   "outputs": [],
   "metadata": {}
  },
  {
   "cell_type": "code",
   "execution_count": 14,
   "source": [
    "df_st = df_st.apply(fill_coordinates, axis='columns')\r\n",
    "df_st.to_csv('stations_updated')\r\n",
    "df_ind"
   ],
   "outputs": [
    {
     "output_type": "execute_result",
     "data": {
      "text/html": [
       "<div>\n",
       "<style scoped>\n",
       "    .dataframe tbody tr th:only-of-type {\n",
       "        vertical-align: middle;\n",
       "    }\n",
       "\n",
       "    .dataframe tbody tr th {\n",
       "        vertical-align: top;\n",
       "    }\n",
       "\n",
       "    .dataframe thead th {\n",
       "        text-align: right;\n",
       "    }\n",
       "</style>\n",
       "<table border=\"1\" class=\"dataframe\">\n",
       "  <thead>\n",
       "    <tr style=\"text-align: right;\">\n",
       "      <th></th>\n",
       "      <th>Period</th>\n",
       "      <th>StationId</th>\n",
       "      <th>AQI</th>\n",
       "      <th>PM2.5</th>\n",
       "      <th>PM10</th>\n",
       "      <th>O3</th>\n",
       "      <th>CO</th>\n",
       "      <th>SO2</th>\n",
       "      <th>NO2</th>\n",
       "      <th>StationName</th>\n",
       "      <th>State</th>\n",
       "      <th>Latitude</th>\n",
       "      <th>Longitude</th>\n",
       "    </tr>\n",
       "  </thead>\n",
       "  <tbody>\n",
       "    <tr>\n",
       "      <th>0</th>\n",
       "      <td>After</td>\n",
       "      <td>AP001</td>\n",
       "      <td>52.069307</td>\n",
       "      <td>17.752959</td>\n",
       "      <td>42.774356</td>\n",
       "      <td>31.167426</td>\n",
       "      <td>0.392059</td>\n",
       "      <td>13.961702</td>\n",
       "      <td>7.136040</td>\n",
       "      <td>Secretariat, Amaravati - APPCB</td>\n",
       "      <td>Andhra Pradesh</td>\n",
       "      <td>16.5151</td>\n",
       "      <td>80.5182</td>\n",
       "    </tr>\n",
       "    <tr>\n",
       "      <th>1</th>\n",
       "      <td>Before</td>\n",
       "      <td>AP001</td>\n",
       "      <td>69.500000</td>\n",
       "      <td>36.053415</td>\n",
       "      <td>59.558780</td>\n",
       "      <td>39.100732</td>\n",
       "      <td>0.588049</td>\n",
       "      <td>19.014512</td>\n",
       "      <td>12.325122</td>\n",
       "      <td>Secretariat, Amaravati - APPCB</td>\n",
       "      <td>Andhra Pradesh</td>\n",
       "      <td>16.5151</td>\n",
       "      <td>80.5182</td>\n",
       "    </tr>\n",
       "    <tr>\n",
       "      <th>2</th>\n",
       "      <td>After</td>\n",
       "      <td>AP005</td>\n",
       "      <td>69.000000</td>\n",
       "      <td>19.870707</td>\n",
       "      <td>68.043737</td>\n",
       "      <td>23.220404</td>\n",
       "      <td>0.324949</td>\n",
       "      <td>8.159394</td>\n",
       "      <td>28.376061</td>\n",
       "      <td>GVM Corporation, Visakhapatnam - APPCB</td>\n",
       "      <td>Andhra Pradesh</td>\n",
       "      <td>17.72</td>\n",
       "      <td>83.3000</td>\n",
       "    </tr>\n",
       "    <tr>\n",
       "      <th>3</th>\n",
       "      <td>Before</td>\n",
       "      <td>AP005</td>\n",
       "      <td>104.341772</td>\n",
       "      <td>46.667439</td>\n",
       "      <td>101.351707</td>\n",
       "      <td>33.381220</td>\n",
       "      <td>1.008415</td>\n",
       "      <td>8.234024</td>\n",
       "      <td>33.963171</td>\n",
       "      <td>GVM Corporation, Visakhapatnam - APPCB</td>\n",
       "      <td>Andhra Pradesh</td>\n",
       "      <td>17.72</td>\n",
       "      <td>83.3000</td>\n",
       "    </tr>\n",
       "    <tr>\n",
       "      <th>4</th>\n",
       "      <td>After</td>\n",
       "      <td>AS001</td>\n",
       "      <td>86.247525</td>\n",
       "      <td>37.464554</td>\n",
       "      <td>67.055248</td>\n",
       "      <td>31.898218</td>\n",
       "      <td>0.467822</td>\n",
       "      <td>15.496832</td>\n",
       "      <td>10.574257</td>\n",
       "      <td>Railway Colony, Guwahati - APCB</td>\n",
       "      <td>Assam</td>\n",
       "      <td>26.1817</td>\n",
       "      <td>91.7806</td>\n",
       "    </tr>\n",
       "    <tr>\n",
       "      <th>...</th>\n",
       "      <td>...</td>\n",
       "      <td>...</td>\n",
       "      <td>...</td>\n",
       "      <td>...</td>\n",
       "      <td>...</td>\n",
       "      <td>...</td>\n",
       "      <td>...</td>\n",
       "      <td>...</td>\n",
       "      <td>...</td>\n",
       "      <td>...</td>\n",
       "      <td>...</td>\n",
       "      <td>...</td>\n",
       "      <td>...</td>\n",
       "    </tr>\n",
       "    <tr>\n",
       "      <th>213</th>\n",
       "      <td>Before</td>\n",
       "      <td>WB012</td>\n",
       "      <td>153.390244</td>\n",
       "      <td>68.955366</td>\n",
       "      <td>139.382195</td>\n",
       "      <td>35.830854</td>\n",
       "      <td>0.889268</td>\n",
       "      <td>14.995732</td>\n",
       "      <td>47.907073</td>\n",
       "      <td>Rabindra Sarobar, Kolkata - WBPCB</td>\n",
       "      <td>West Bengal</td>\n",
       "      <td>22.5121</td>\n",
       "      <td>88.3637</td>\n",
       "    </tr>\n",
       "    <tr>\n",
       "      <th>214</th>\n",
       "      <td>After</td>\n",
       "      <td>WB013</td>\n",
       "      <td>65.741573</td>\n",
       "      <td>20.192747</td>\n",
       "      <td>38.080110</td>\n",
       "      <td>41.159011</td>\n",
       "      <td>0.743626</td>\n",
       "      <td>7.297582</td>\n",
       "      <td>17.334157</td>\n",
       "      <td>Victoria, Kolkata - WBPCB</td>\n",
       "      <td>West Bengal</td>\n",
       "      <td>22.5448</td>\n",
       "      <td>88.3426</td>\n",
       "    </tr>\n",
       "    <tr>\n",
       "      <th>215</th>\n",
       "      <td>Before</td>\n",
       "      <td>WB013</td>\n",
       "      <td>206.469136</td>\n",
       "      <td>83.851358</td>\n",
       "      <td>161.970617</td>\n",
       "      <td>50.827778</td>\n",
       "      <td>1.267654</td>\n",
       "      <td>11.994074</td>\n",
       "      <td>70.020000</td>\n",
       "      <td>Victoria, Kolkata - WBPCB</td>\n",
       "      <td>West Bengal</td>\n",
       "      <td>22.5448</td>\n",
       "      <td>88.3426</td>\n",
       "    </tr>\n",
       "    <tr>\n",
       "      <th>216</th>\n",
       "      <td>Before</td>\n",
       "      <td>DL006</td>\n",
       "      <td>NaN</td>\n",
       "      <td>NaN</td>\n",
       "      <td>NaN</td>\n",
       "      <td>NaN</td>\n",
       "      <td>NaN</td>\n",
       "      <td>NaN</td>\n",
       "      <td>NaN</td>\n",
       "      <td>Burari Crossing, Delhi - IMD</td>\n",
       "      <td>Delhi</td>\n",
       "      <td>28.7285</td>\n",
       "      <td>77.1993</td>\n",
       "    </tr>\n",
       "    <tr>\n",
       "      <th>217</th>\n",
       "      <td>Before</td>\n",
       "      <td>UP015</td>\n",
       "      <td>NaN</td>\n",
       "      <td>NaN</td>\n",
       "      <td>NaN</td>\n",
       "      <td>NaN</td>\n",
       "      <td>NaN</td>\n",
       "      <td>NaN</td>\n",
       "      <td>NaN</td>\n",
       "      <td>Nishant Ganj, Lucknow - UPPCB</td>\n",
       "      <td>Uttar Pradesh</td>\n",
       "      <td>26.8648</td>\n",
       "      <td>81.0048</td>\n",
       "    </tr>\n",
       "  </tbody>\n",
       "</table>\n",
       "<p>218 rows × 13 columns</p>\n",
       "</div>"
      ],
      "text/plain": [
       "     Period StationId         AQI      PM2.5        PM10         O3        CO  \\\n",
       "0     After     AP001   52.069307  17.752959   42.774356  31.167426  0.392059   \n",
       "1    Before     AP001   69.500000  36.053415   59.558780  39.100732  0.588049   \n",
       "2     After     AP005   69.000000  19.870707   68.043737  23.220404  0.324949   \n",
       "3    Before     AP005  104.341772  46.667439  101.351707  33.381220  1.008415   \n",
       "4     After     AS001   86.247525  37.464554   67.055248  31.898218  0.467822   \n",
       "..      ...       ...         ...        ...         ...        ...       ...   \n",
       "213  Before     WB012  153.390244  68.955366  139.382195  35.830854  0.889268   \n",
       "214   After     WB013   65.741573  20.192747   38.080110  41.159011  0.743626   \n",
       "215  Before     WB013  206.469136  83.851358  161.970617  50.827778  1.267654   \n",
       "216  Before     DL006         NaN        NaN         NaN        NaN       NaN   \n",
       "217  Before     UP015         NaN        NaN         NaN        NaN       NaN   \n",
       "\n",
       "           SO2        NO2                             StationName  \\\n",
       "0    13.961702   7.136040          Secretariat, Amaravati - APPCB   \n",
       "1    19.014512  12.325122          Secretariat, Amaravati - APPCB   \n",
       "2     8.159394  28.376061  GVM Corporation, Visakhapatnam - APPCB   \n",
       "3     8.234024  33.963171  GVM Corporation, Visakhapatnam - APPCB   \n",
       "4    15.496832  10.574257         Railway Colony, Guwahati - APCB   \n",
       "..         ...        ...                                     ...   \n",
       "213  14.995732  47.907073       Rabindra Sarobar, Kolkata - WBPCB   \n",
       "214   7.297582  17.334157               Victoria, Kolkata - WBPCB   \n",
       "215  11.994074  70.020000               Victoria, Kolkata - WBPCB   \n",
       "216        NaN        NaN            Burari Crossing, Delhi - IMD   \n",
       "217        NaN        NaN           Nishant Ganj, Lucknow - UPPCB   \n",
       "\n",
       "              State Latitude  Longitude  \n",
       "0    Andhra Pradesh  16.5151    80.5182  \n",
       "1    Andhra Pradesh  16.5151    80.5182  \n",
       "2    Andhra Pradesh    17.72    83.3000  \n",
       "3    Andhra Pradesh    17.72    83.3000  \n",
       "4             Assam  26.1817    91.7806  \n",
       "..              ...      ...        ...  \n",
       "213     West Bengal  22.5121    88.3637  \n",
       "214     West Bengal  22.5448    88.3426  \n",
       "215     West Bengal  22.5448    88.3426  \n",
       "216           Delhi  28.7285    77.1993  \n",
       "217   Uttar Pradesh  26.8648    81.0048  \n",
       "\n",
       "[218 rows x 13 columns]"
      ]
     },
     "metadata": {},
     "execution_count": 14
    }
   ],
   "metadata": {}
  },
  {
   "cell_type": "code",
   "execution_count": null,
   "source": [
    "# plot on map using mapbox"
   ],
   "outputs": [],
   "metadata": {}
  },
  {
   "cell_type": "code",
   "execution_count": 16,
   "source": [
    "dict_center_zoom={\r\n",
    "    'India':[(20.5937,78.9629),2.5],\r\n",
    "    'Bengaluru':[(12.9716,77.5946),9],\r\n",
    "    'Delhi':[(28.7041,77.1025),8],\r\n",
    "    'Mumbai':[(19.0760,72.8777),8],\r\n",
    "    'Hyderabad':[(17.3850,78.4867),8],\r\n",
    "    'Chennai':[(13.0827,80.2707),9]\r\n",
    "}\r\n",
    "\r\n",
    "def draw_aqi_map(df,city):\r\n",
    "    if city=='India':\r\n",
    "        df0 = df\r\n",
    "    else:\r\n",
    "        if city=='Bengaluru':\r\n",
    "            state='Karnataka'\r\n",
    "        elif city=='Mumbai':\r\n",
    "            state='Maharashtra'\r\n",
    "        elif city=='Hyderabad':\r\n",
    "            state='Telangana'\r\n",
    "        elif city=='Chennai':\r\n",
    "            state='Tamil Nadu'\r\n",
    "        else:\r\n",
    "            state=city\r\n",
    "        df0 = df[df['State']==state]\r\n",
    "    \r\n",
    "\r\n",
    "    fig = go.Figure()\r\n",
    "\r\n",
    "    df1=df0[df0['Period']=='Before']\r\n",
    "    fig.add_trace(go.Scattermapbox(name='Before Lockdown',\r\n",
    "        lat=df1.Latitude,\r\n",
    "        lon=df1.Longitude,\r\n",
    "        mode='markers',\r\n",
    "        marker=go.scattermapbox.Marker(\r\n",
    "            size=17,\r\n",
    "            color=df1.AQI,\r\n",
    "            colorscale=scale(df1.AQI),\r\n",
    "            opacity=0.7\r\n",
    "        ),\r\n",
    "        text=df1.StationId.astype(str)+'<br><b>Station</b>: '+df1.StationName+'<br><b>AQI</b>: '+np.round(df1.AQI).astype(str),\r\n",
    "        hoverinfo='text',\r\n",
    "        subplot='mapbox'\r\n",
    "    ))\r\n",
    "\r\n",
    "    df2=df0[df0['Period']=='After']\r\n",
    "    fig.add_trace(go.Scattermapbox(name='After Lockdown',\r\n",
    "        lat=df2.Latitude,\r\n",
    "        lon=df2.Longitude,\r\n",
    "        mode='markers',\r\n",
    "        marker=go.scattermapbox.Marker(\r\n",
    "            size=17,\r\n",
    "            color=df2.AQI,\r\n",
    "            colorscale=scale(df2.AQI),\r\n",
    "            opacity=0.7\r\n",
    "        ),\r\n",
    "        text=df2.StationId.astype(str)+'<br><b>Station</b>: '+df2.StationName+'<br><b>AQI</b>: '+np.round(df2.AQI).astype(str),\r\n",
    "        hoverinfo='text',\r\n",
    "        subplot='mapbox2'\r\n",
    "    ))\r\n",
    "\r\n",
    "    fig.update_layout(\r\n",
    "        title=city + ': Before & After Lockdown',\r\n",
    "        paper_bgcolor=BGCOLOR,\r\n",
    "        margin=dict(l=20,r=20,t=40,b=20),\r\n",
    "        showlegend=False,\r\n",
    "        autosize=True,\r\n",
    "        hovermode='closest',\r\n",
    "        mapbox=dict(accesstoken=secret_value_1,\r\n",
    "                    layers= [{\r\n",
    "            \"below\": 'traces',\r\n",
    "            \"sourcetype\": \"raster\",\r\n",
    "            \"source\": [\r\n",
    "                \"https://basemap.nationalmap.gov/arcgis/rest/services/USGSImageryOnly/MapServer/tile/{z}/{y}/{x}\"\r\n",
    "            ]}],\r\n",
    "            domain={'x': [0, 0.48], 'y': [0, 1]},\r\n",
    "                bearing=0,\r\n",
    "                center=dict(\r\n",
    "                lat=dict_center_zoom[city][0][0],\r\n",
    "                lon=dict_center_zoom[city][0][1]\r\n",
    "            ),\r\n",
    "        pitch=0,\r\n",
    "        zoom=dict_center_zoom[city][1]\r\n",
    "        ),\r\n",
    "        mapbox2=dict(accesstoken=secret_value_1,\r\n",
    "            style='outdoors',\r\n",
    "            domain={'x': [0.52, 1.0], 'y': [0, 1]},\r\n",
    "            bearing=0,\r\n",
    "            center=dict(\r\n",
    "                lat=dict_center_zoom[city][0][0],\r\n",
    "                lon=dict_center_zoom[city][0][1]\r\n",
    "            ),\r\n",
    "            pitch=0,\r\n",
    "            zoom=dict_center_zoom[city][1],\r\n",
    "        ),\r\n",
    "    )\r\n",
    "    return fig\r\n",
    "draw_aqi_map(df_ind,'India')\r\n"
   ],
   "outputs": [
    {
     "output_type": "display_data",
     "data": {
      "application/vnd.plotly.v1+json": {
       "config": {
        "plotlyServerURL": "https://plot.ly"
       },
       "data": [
        {
         "hoverinfo": "text",
         "lat": [
          "16.5151",
          "17.72",
          "26.1817",
          "25.5866",
          "25.5925",
          "25.6054",
          "25.6195",
          "25.6036",
          "25.6075",
          "30.7515",
          "28.7972",
          "28.6687",
          "28.6687",
          "28.4707",
          "28.7932",
          "28.5512",
          "28.7496",
          "28.4986",
          "28.571",
          "28.6557",
          "28.5628",
          "28.6826",
          "28.6286",
          "28.6687",
          "28.5803",
          "28.5901",
          "28.6113",
          "28.6364",
          "28.6823",
          "28.6091",
          "28.5702",
          "28.8549",
          "28.5679",
          "28.6574",
          "28.5308",
          "28.6687",
          "28.6687",
          "28.6377",
          "28.5901",
          "28.6687",
          "28.6687",
          "28.6515",
          "28.550425",
          "28.6687",
          "28.5313",
          "28.6687",
          "28.6687",
          "22.959",
          "28.4235",
          "28.4227",
          "28.4275",
          "28.4501",
          "23.7079",
          "12.9135",
          "12.9473",
          "12.9756",
          "12.9781",
          "12.9756",
          "12.9756",
          "12.921",
          "13.0285",
          "12.967507",
          "12.9173",
          "9.9857",
          "9.9694",
          "8.5637",
          "8.5149",
          "19.0596",
          "19.1328",
          "19.1008",
          "18.91",
          "19.0863",
          "19.1176",
          "19.039",
          "19.3832",
          "19.1086",
          "18.9936",
          "25.5586",
          "23.2099",
          "23.7176",
          "21.8005",
          "20.9361",
          "31.62",
          "26.8754",
          "26.9164",
          "26.9798",
          "17.5409",
          "17.4601",
          "17.5111",
          "17.5325",
          "17.457",
          "17.3497",
          "12.9099",
          "13.1779",
          "13.1779",
          "13.0052",
          "10.941234",
          "26.8821",
          "26.8648",
          "26.8459",
          "26.3",
          "22.528",
          "22.5797",
          "22.5566",
          "22.562",
          "22.5895",
          "22.5121",
          "22.5448",
          "28.7285",
          "26.8648"
         ],
         "lon": [
          80.5182,
          83.3,
          91.7806,
          85.0436,
          85.2272,
          85.0891,
          85.1466,
          85.112,
          85.0846,
          76.7629,
          77.1331,
          77.23,
          77.23,
          77.1099,
          77.0483,
          77.2736,
          77.1174,
          77.2648,
          77.0719,
          77.2949,
          77.118,
          77.305,
          77.2411,
          77.23,
          77.2338,
          77.2207,
          77.2377,
          77.2011,
          77.0349,
          77.0325,
          76.9338,
          77.0892,
          77.2505,
          77.1585,
          77.2713,
          77.23,
          77.23,
          77.1571,
          77.2207,
          77.23,
          77.23,
          77.1473,
          77.215935,
          77.23,
          77.1902,
          77.23,
          77.23,
          72.6295,
          77.1489,
          77.0667,
          77.1465,
          77.0263,
          86.4147,
          77.5951,
          77.6983,
          77.6033,
          77.5697,
          77.6033,
          77.6033,
          77.5849,
          77.5197,
          77.70945,
          77.6228,
          76.2813,
          76.3212,
          76.8865,
          76.9436,
          72.8295,
          72.5205,
          72.8746,
          72.82,
          72.8888,
          72.906,
          72.8619,
          72.8204,
          72.8362,
          72.8128,
          91.8985,
          77.4228,
          92.7193,
          83.8397,
          85.1707,
          74.8765,
          75.8167,
          75.8017,
          75.7739,
          78.3585,
          78.3344,
          78.2752,
          78.1849,
          78.4416,
          78.4514,
          80.1077,
          80.2701,
          80.2701,
          80.2398,
          76.97203,
          80.9303,
          81.0048,
          80.9366,
          80.3,
          88.3659,
          88.4143,
          88.3427,
          88.409,
          88.3558,
          88.3637,
          88.3426,
          77.1993,
          81.0048
         ],
         "marker": {
          "color": [
           69.5,
           104.34177215189874,
           254.20731707317074,
           210.625,
           260.5882352941176,
           275.75,
           160.73333333333332,
           178.3125,
           228.320987654321,
           85.67073170731707,
           236.7439024390244,
           277.1625,
           273.4634146341463,
           180.109756097561,
           294.0740740740741,
           254.15853658536585,
           285.08641975308643,
           246.9512195121951,
           294.3048780487805,
           null,
           211.9268292682927,
           226.6829268292683,
           260.6666666666667,
           295.4125,
           245.3658536585366,
           190.5731707317073,
           238.23170731707316,
           223.0506329113924,
           300.55696202531647,
           259,
           227,
           258.1829268292683,
           294.9634146341463,
           209.46913580246914,
           259.7682926829268,
           230.7560975609756,
           289.525,
           252.475,
           169.46341463414635,
           215.1219512195122,
           300.5487804878049,
           228.5121951219512,
           279.6951219512195,
           249.53658536585365,
           223.03658536585365,
           276.5365853658537,
           296.780487804878,
           397.2987012987013,
           203.53658536585365,
           172.1764705882353,
           140.4,
           186.325,
           165.1159420289855,
           68.37037037037037,
           124.36,
           111.08620689655173,
           115.22535211267606,
           97.2,
           104.87654320987654,
           107.12345679012346,
           84.12345679012346,
           67.5625,
           96.9342105263158,
           99.73214285714286,
           127.1864406779661,
           90.30555555555556,
           80.2560975609756,
           124.57142857142857,
           95.26829268292683,
           182.4390243902439,
           145.5121951219512,
           177.09756097560975,
           126.98780487804878,
           183,
           148.84146341463415,
           153.39506172839506,
           157.5,
           77.8840579710145,
           137.5731707317073,
           60.18181818181818,
           139.83582089552237,
           219.25,
           109.13924050632912,
           100.90243902439025,
           135.8658536585366,
           115.47560975609755,
           96.16883116883118,
           86.60975609756098,
           91.325,
           94.07894736842105,
           90.94366197183099,
           114.4927536231884,
           80.86585365853658,
           70.01369863013699,
           113.66233766233766,
           64.17073170731707,
           79.7051282051282,
           180.70731707317074,
           152.875,
           265.5487804878049,
           266.4390243902439,
           220.4390243902439,
           161.9102564102564,
           191.14634146341464,
           156.1341463414634,
           224.74647887323943,
           153.390243902439,
           206.46913580246914,
           null,
           null
          ],
          "colorscale": [
           [
            0,
            "#77DD77"
           ],
           [
            0,
            "#77DD77"
           ],
           [
            0,
            "#33AF13"
           ],
           [
            0.11812387626165344,
            "#33AF13"
           ],
           [
            0.11812387626165344,
            "#F6D20E"
           ],
           [
            0.4147568988365822,
            "#F6D20E"
           ],
           [
            0.4147568988365822,
            "#F17700"
           ],
           [
            0.7113899214115108,
            "#F17700"
           ],
           [
            0.7113899214115108,
            "#FE6B64"
           ],
           [
            1,
            "#FE6B64"
           ]
          ],
          "opacity": 0.7,
          "size": 17
         },
         "mode": "markers",
         "name": "Before Lockdown",
         "subplot": "mapbox",
         "text": [
          "AP001<br><b>Station</b>: Secretariat, Amaravati - APPCB<br><b>AQI</b>: 70.0",
          "AP005<br><b>Station</b>: GVM Corporation, Visakhapatnam - APPCB<br><b>AQI</b>: 104.0",
          "AS001<br><b>Station</b>: Railway Colony, Guwahati - APCB<br><b>AQI</b>: 254.0",
          "BR005<br><b>Station</b>: DRM Office Danapur, Patna - BSPCB<br><b>AQI</b>: 211.0",
          "BR006<br><b>Station</b>: Govt. High School Shikarpur, Patna - BSPCB<br><b>AQI</b>: 261.0",
          "BR007<br><b>Station</b>: IGSC Planetarium Complex, Patna - BSPCB<br><b>AQI</b>: 276.0",
          "BR008<br><b>Station</b>: Muradpur, Patna - BSPCB<br><b>AQI</b>: 161.0",
          "BR009<br><b>Station</b>: Rajbansi Nagar, Patna - BSPCB<br><b>AQI</b>: 178.0",
          "BR010<br><b>Station</b>: Samanpura, Patna - BSPCB<br><b>AQI</b>: 228.0",
          "CH001<br><b>Station</b>: Sector-25, Chandigarh - CPCC<br><b>AQI</b>: 86.0",
          "DL001<br><b>Station</b>: Alipur, Delhi - DPCC<br><b>AQI</b>: 237.0",
          "DL002<br><b>Station</b>: Anand Vihar, Delhi - DPCC<br><b>AQI</b>: 277.0",
          "DL003<br><b>Station</b>: Ashok Vihar, Delhi - DPCC<br><b>AQI</b>: 273.0",
          "DL004<br><b>Station</b>: Aya Nagar, Delhi - IMD<br><b>AQI</b>: 180.0",
          "DL005<br><b>Station</b>: Bawana, Delhi - DPCC<br><b>AQI</b>: 294.0",
          "DL007<br><b>Station</b>: CRRI Mathura Road, Delhi - IMD<br><b>AQI</b>: 254.0",
          "DL008<br><b>Station</b>: DTU, Delhi - CPCB<br><b>AQI</b>: 285.0",
          "DL009<br><b>Station</b>: Dr. Karni Singh Shooting Range, Delhi - DPCC<br><b>AQI</b>: 247.0",
          "DL010<br><b>Station</b>: Dwarka-Sector 8, Delhi - DPCC<br><b>AQI</b>: 294.0",
          "DL011<br><b>Station</b>: East Arjun Nagar, Delhi - CPCB<br><b>AQI</b>: nan",
          "DL012<br><b>Station</b>: IGI Airport (T3), Delhi - IMD<br><b>AQI</b>: 212.0",
          "DL013<br><b>Station</b>: IHBAS, Dilshad Garden, Delhi - CPCB<br><b>AQI</b>: 227.0",
          "DL014<br><b>Station</b>: ITO, Delhi - CPCB<br><b>AQI</b>: 261.0",
          "DL015<br><b>Station</b>: Jahangirpuri, Delhi - DPCC<br><b>AQI</b>: 295.0",
          "DL016<br><b>Station</b>: Jawaharlal Nehru Stadium, Delhi - DPCC<br><b>AQI</b>: 245.0",
          "DL017<br><b>Station</b>: Lodhi Road, Delhi - IMD<br><b>AQI</b>: 191.0",
          "DL018<br><b>Station</b>: Major Dhyan Chand National Stadium, Delhi - DPCC<br><b>AQI</b>: 238.0",
          "DL019<br><b>Station</b>: Mandir Marg, Delhi - DPCC<br><b>AQI</b>: 223.0",
          "DL020<br><b>Station</b>: Mundka, Delhi - DPCC<br><b>AQI</b>: 301.0",
          "DL021<br><b>Station</b>: NSIT Dwarka, Delhi - CPCB<br><b>AQI</b>: 259.0",
          "DL022<br><b>Station</b>: Najafgarh, Delhi - DPCC<br><b>AQI</b>: 227.0",
          "DL023<br><b>Station</b>: Narela, Delhi - DPCC<br><b>AQI</b>: 258.0",
          "DL024<br><b>Station</b>: Nehru Nagar, Delhi - DPCC<br><b>AQI</b>: 295.0",
          "DL025<br><b>Station</b>: North Campus, DU, Delhi - IMD<br><b>AQI</b>: 209.0",
          "DL026<br><b>Station</b>: Okhla Phase-2, Delhi - DPCC<br><b>AQI</b>: 260.0",
          "DL027<br><b>Station</b>: Patparganj, Delhi - DPCC<br><b>AQI</b>: 231.0",
          "DL028<br><b>Station</b>: Punjabi Bagh, Delhi - DPCC<br><b>AQI</b>: 290.0",
          "DL029<br><b>Station</b>: Pusa, Delhi - DPCC<br><b>AQI</b>: 252.0",
          "DL030<br><b>Station</b>: Pusa, Delhi - IMD<br><b>AQI</b>: 169.0",
          "DL031<br><b>Station</b>: R K Puram, Delhi - DPCC<br><b>AQI</b>: 215.0",
          "DL032<br><b>Station</b>: Rohini, Delhi - DPCC<br><b>AQI</b>: 301.0",
          "DL033<br><b>Station</b>: Shadipur, Delhi - CPCB<br><b>AQI</b>: 229.0",
          "DL034<br><b>Station</b>: Sirifort, Delhi - CPCB<br><b>AQI</b>: 280.0",
          "DL035<br><b>Station</b>: Sonia Vihar, Delhi - DPCC<br><b>AQI</b>: 250.0",
          "DL036<br><b>Station</b>: Sri Aurobindo Marg, Delhi - DPCC<br><b>AQI</b>: 223.0",
          "DL037<br><b>Station</b>: Vivek Vihar, Delhi - DPCC<br><b>AQI</b>: 277.0",
          "DL038<br><b>Station</b>: Wazirpur, Delhi - DPCC<br><b>AQI</b>: 297.0",
          "GJ001<br><b>Station</b>: Maninagar, Ahmedabad - GPCB<br><b>AQI</b>: 397.0",
          "HR011<br><b>Station</b>: NISE Gwal Pahari, Gurugram - IMD<br><b>AQI</b>: 204.0",
          "HR012<br><b>Station</b>: Sector-51, Gurugram - HSPCB<br><b>AQI</b>: 172.0",
          "HR013<br><b>Station</b>: Teri Gram, Gurugram - HSPCB<br><b>AQI</b>: 140.0",
          "HR014<br><b>Station</b>: Vikas Sadan, Gurugram - HSPCB<br><b>AQI</b>: 186.0",
          "JH001<br><b>Station</b>: Tata Stadium, Jorapokhar - JSPCB<br><b>AQI</b>: 165.0",
          "KA002<br><b>Station</b>: BTM Layout, Bengaluru - CPCB<br><b>AQI</b>: 68.0",
          "KA003<br><b>Station</b>: BWSSB Kadabesanahalli, Bengaluru - CPCB<br><b>AQI</b>: 124.0",
          "KA004<br><b>Station</b>: Bapuji Nagar, Bengaluru - KSPCB<br><b>AQI</b>: 111.0",
          "KA005<br><b>Station</b>: City Railway Station, Bengaluru - KSPCB<br><b>AQI</b>: 115.0",
          "KA006<br><b>Station</b>: Hebbal, Bengaluru - KSPCB<br><b>AQI</b>: 97.0",
          "KA007<br><b>Station</b>: Hombegowda Nagar, Bengaluru - KSPCB<br><b>AQI</b>: 105.0",
          "KA008<br><b>Station</b>: Jayanagar 5th Block, Bengaluru - KSPCB<br><b>AQI</b>: 107.0",
          "KA009<br><b>Station</b>: Peenya, Bengaluru - CPCB<br><b>AQI</b>: 84.0",
          "KA010<br><b>Station</b>: Sanegurava Halli, Bengaluru - KSPCB<br><b>AQI</b>: 68.0",
          "KA011<br><b>Station</b>: Silk Board, Bengaluru - KSPCB<br><b>AQI</b>: 97.0",
          "KL002<br><b>Station</b>: Kacheripady, Ernakulam - Kerala PCB<br><b>AQI</b>: 100.0",
          "KL004<br><b>Station</b>: Vyttila, Kochi - Kerala PCB<br><b>AQI</b>: 127.0",
          "KL007<br><b>Station</b>: Kariavattom, Thiruvananthapuram - Kerala PCB<br><b>AQI</b>: 90.0",
          "KL008<br><b>Station</b>: Plammoodu, Thiruvananthapuram - Kerala PCB<br><b>AQI</b>: 80.0",
          "MH005<br><b>Station</b>: Bandra, Mumbai - MPCB<br><b>AQI</b>: 125.0",
          "MH006<br><b>Station</b>: Borivali East, Mumbai - MPCB<br><b>AQI</b>: 95.0",
          "MH007<br><b>Station</b>: Chhatrapati Shivaji Intl. Airport (T2), Mumbai - MPCB<br><b>AQI</b>: 182.0",
          "MH008<br><b>Station</b>: Colaba, Mumbai - MPCB<br><b>AQI</b>: 146.0",
          "MH009<br><b>Station</b>: Kurla, Mumbai - MPCB<br><b>AQI</b>: 177.0",
          "MH010<br><b>Station</b>: Powai, Mumbai - MPCB<br><b>AQI</b>: 127.0",
          "MH011<br><b>Station</b>: Sion, Mumbai - MPCB<br><b>AQI</b>: 183.0",
          "MH012<br><b>Station</b>: Vasai West, Mumbai - MPCB<br><b>AQI</b>: 149.0",
          "MH013<br><b>Station</b>: Vile Parle West, Mumbai - MPCB<br><b>AQI</b>: 153.0",
          "MH014<br><b>Station</b>: Worli, Mumbai - MPCB<br><b>AQI</b>: 158.0",
          "ML001<br><b>Station</b>: Lumpyngngad, Shillong - Meghalaya PCB<br><b>AQI</b>: 78.0",
          "MP001<br><b>Station</b>: T T Nagar, Bhopal - MPPCB<br><b>AQI</b>: 138.0",
          "MZ001<br><b>Station</b>: Sikulpuikawn, Aizawl - Mizoram PCB<br><b>AQI</b>: 60.0",
          "OD001<br><b>Station</b>: GM Office, Brajrajnagar - OSPCB<br><b>AQI</b>: 140.0",
          "OD002<br><b>Station</b>: Talcher Coalfields,Talcher - OSPCB<br><b>AQI</b>: 219.0",
          "PB001<br><b>Station</b>: Golden Temple, Amritsar - PPCB<br><b>AQI</b>: 109.0",
          "RJ004<br><b>Station</b>: Adarsh Nagar, Jaipur - RSPCB<br><b>AQI</b>: 101.0",
          "RJ005<br><b>Station</b>: Police Commissionerate, Jaipur - RSPCB<br><b>AQI</b>: 136.0",
          "RJ006<br><b>Station</b>: Shastri Nagar, Jaipur - RSPCB<br><b>AQI</b>: 115.0",
          "TG001<br><b>Station</b>: Bollaram Industrial Area, Hyderabad - TSPCB<br><b>AQI</b>: 96.0",
          "TG002<br><b>Station</b>: Central University, Hyderabad - TSPCB<br><b>AQI</b>: 87.0",
          "TG003<br><b>Station</b>: ICRISAT Patancheru, Hyderabad - TSPCB<br><b>AQI</b>: 91.0",
          "TG004<br><b>Station</b>: IDA Pashamylaram, Hyderabad - TSPCB<br><b>AQI</b>: 94.0",
          "TG005<br><b>Station</b>: Sanathnagar, Hyderabad - TSPCB<br><b>AQI</b>: 91.0",
          "TG006<br><b>Station</b>: Zoo Park, Hyderabad - TSPCB<br><b>AQI</b>: 114.0",
          "TN001<br><b>Station</b>: Alandur Bus Depot, Chennai - CPCB<br><b>AQI</b>: 81.0",
          "TN002<br><b>Station</b>: Manali Village, Chennai - TNPCB<br><b>AQI</b>: 70.0",
          "TN003<br><b>Station</b>: Manali, Chennai - CPCB<br><b>AQI</b>: 114.0",
          "TN004<br><b>Station</b>: Velachery Res. Area, Chennai - CPCB<br><b>AQI</b>: 64.0",
          "TN005<br><b>Station</b>: SIDCO Kurichi, Coimbatore - TNPCB<br><b>AQI</b>: 80.0",
          "UP012<br><b>Station</b>: Central School, Lucknow - CPCB<br><b>AQI</b>: 181.0",
          "UP013<br><b>Station</b>: Gomti Nagar, Lucknow - UPPCB<br><b>AQI</b>: 153.0",
          "UP014<br><b>Station</b>: Lalbagh, Lucknow - CPCB<br><b>AQI</b>: 266.0",
          "UP016<br><b>Station</b>: Talkatora District Industries Center, Lucknow - CPCB<br><b>AQI</b>: 266.0",
          "WB007<br><b>Station</b>: Ballygunge, Kolkata - WBPCB<br><b>AQI</b>: 220.0",
          "WB008<br><b>Station</b>: Bidhannagar, Kolkata - WBPCB<br><b>AQI</b>: 162.0",
          "WB009<br><b>Station</b>: Fort William, Kolkata - WBPCB<br><b>AQI</b>: 191.0",
          "WB010<br><b>Station</b>: Jadavpur, Kolkata - WBPCB<br><b>AQI</b>: 156.0",
          "WB011<br><b>Station</b>: Rabindra Bharati University, Kolkata - WBPCB<br><b>AQI</b>: 225.0",
          "WB012<br><b>Station</b>: Rabindra Sarobar, Kolkata - WBPCB<br><b>AQI</b>: 153.0",
          "WB013<br><b>Station</b>: Victoria, Kolkata - WBPCB<br><b>AQI</b>: 206.0",
          "DL006<br><b>Station</b>: Burari Crossing, Delhi - IMD<br><b>AQI</b>: nan",
          "UP015<br><b>Station</b>: Nishant Ganj, Lucknow - UPPCB<br><b>AQI</b>: nan"
         ],
         "type": "scattermapbox"
        },
        {
         "hoverinfo": "text",
         "lat": [
          "16.5151",
          "17.72",
          "26.1817",
          "25.5866",
          "25.5925",
          "25.6054",
          "25.6195",
          "25.6036",
          "25.6075",
          "30.7515",
          "28.7972",
          "28.6687",
          "28.6687",
          "28.4707",
          "28.7932",
          "28.5512",
          "28.7496",
          "28.4986",
          "28.571",
          "28.6557",
          "28.5628",
          "28.6826",
          "28.6286",
          "28.6687",
          "28.5803",
          "28.5901",
          "28.6113",
          "28.6364",
          "28.6823",
          "28.6091",
          "28.5702",
          "28.8549",
          "28.5679",
          "28.6574",
          "28.5308",
          "28.6687",
          "28.6687",
          "28.6377",
          "28.5901",
          "28.6687",
          "28.6687",
          "28.6515",
          "28.550425",
          "28.6687",
          "28.5313",
          "28.6687",
          "28.6687",
          "22.959",
          "28.4235",
          "28.4227",
          "28.4275",
          "28.4501",
          "23.7079",
          "12.9135",
          "12.9473",
          "12.9756",
          "12.9781",
          "12.9756",
          "12.9756",
          "12.921",
          "13.0285",
          "12.967507",
          "12.9173",
          "9.9857",
          "9.9694",
          "8.5637",
          "8.5149",
          "19.0596",
          "19.1328",
          "19.1008",
          "18.91",
          "19.0863",
          "19.1176",
          "19.039",
          "19.3832",
          "19.1086",
          "18.9936",
          "25.5586",
          "23.2099",
          "23.7176",
          "21.8005",
          "20.9361",
          "31.62",
          "26.8754",
          "26.9164",
          "26.9798",
          "17.5409",
          "17.4601",
          "17.5111",
          "17.5325",
          "17.457",
          "17.3497",
          "12.9099",
          "13.1779",
          "13.1779",
          "13.0052",
          "10.941234",
          "26.8821",
          "26.8648",
          "26.8459",
          "26.3",
          "22.528",
          "22.5797",
          "22.5566",
          "22.562",
          "22.5895",
          "22.5121",
          "22.5448"
         ],
         "lon": [
          80.5182,
          83.3,
          91.7806,
          85.0436,
          85.2272,
          85.0891,
          85.1466,
          85.112,
          85.0846,
          76.7629,
          77.1331,
          77.23,
          77.23,
          77.1099,
          77.0483,
          77.2736,
          77.1174,
          77.2648,
          77.0719,
          77.2949,
          77.118,
          77.305,
          77.2411,
          77.23,
          77.2338,
          77.2207,
          77.2377,
          77.2011,
          77.0349,
          77.0325,
          76.9338,
          77.0892,
          77.2505,
          77.1585,
          77.2713,
          77.23,
          77.23,
          77.1571,
          77.2207,
          77.23,
          77.23,
          77.1473,
          77.215935,
          77.23,
          77.1902,
          77.23,
          77.23,
          72.6295,
          77.1489,
          77.0667,
          77.1465,
          77.0263,
          86.4147,
          77.5951,
          77.6983,
          77.6033,
          77.5697,
          77.6033,
          77.6033,
          77.5849,
          77.5197,
          77.70945,
          77.6228,
          76.2813,
          76.3212,
          76.8865,
          76.9436,
          72.8295,
          72.5205,
          72.8746,
          72.82,
          72.8888,
          72.906,
          72.8619,
          72.8204,
          72.8362,
          72.8128,
          91.8985,
          77.4228,
          92.7193,
          83.8397,
          85.1707,
          74.8765,
          75.8167,
          75.8017,
          75.7739,
          78.3585,
          78.3344,
          78.2752,
          78.1849,
          78.4416,
          78.4514,
          80.1077,
          80.2701,
          80.2701,
          80.2398,
          76.97203,
          80.9303,
          81.0048,
          80.9366,
          80.3,
          88.3659,
          88.4143,
          88.3427,
          88.409,
          88.3558,
          88.3637,
          88.3426
         ],
         "marker": {
          "color": [
           52.06930693069307,
           69,
           86.24752475247524,
           87.49019607843137,
           115.01052631578948,
           127.48275862068965,
           91.64,
           92.89,
           175.61,
           59.69,
           129.02020202020202,
           157.51388888888889,
           107.63366336633663,
           99.83673469387755,
           164.33333333333334,
           114.57425742574257,
           159.01020408163265,
           155.66336633663366,
           134.0891089108911,
           null,
           98.5959595959596,
           93.17821782178218,
           157.03191489361703,
           129.3,
           123.16831683168317,
           134.39080459770116,
           120.54,
           91.89583333333333,
           147.55208333333334,
           123.33333333333333,
           128.375,
           157.48192771084337,
           149.34653465346534,
           103.8019801980198,
           109.4950495049505,
           89.14141414141415,
           148.75,
           117.20588235294117,
           123.73214285714286,
           101.36633663366337,
           138,
           88.66336633663366,
           143.9009900990099,
           124.52577319587628,
           119.16326530612245,
           121.70297029702971,
           124.80412371134021,
           121.33333333333333,
           103.61386138613861,
           150.98019801980197,
           111.54455445544555,
           139.08247422680412,
           130.66666666666666,
           73.41584158415841,
           108.6231884057971,
           67,
           83.76271186440678,
           55.739583333333336,
           61.13095238095238,
           52.91860465116279,
           63.83695652173913,
           54.9125,
           57.1578947368421,
           88.10309278350516,
           90.63636363636364,
           57.77272727272727,
           51.410526315789475,
           66.93103448275862,
           62.5,
           75.65306122448979,
           52.65882352941176,
           78.91,
           53.28865979381443,
           69.67,
           70.34848484848484,
           51.225352112676056,
           55.45161290322581,
           39.06849315068493,
           94.18681318681318,
           31.97,
           133.72222222222223,
           110.5,
           79.53684210526316,
           91.27722772277228,
           97.0909090909091,
           98.70297029702971,
           67.37113402061856,
           61.64646464646464,
           59.99,
           68.32673267326733,
           57.074074074074076,
           67.51648351648352,
           72.5049504950495,
           110.75280898876404,
           80.5049504950495,
           59.71,
           56.69230769230769,
           83.2871287128713,
           66.49462365591398,
           130.02970297029702,
           143.1980198019802,
           59.95,
           60.04123711340206,
           58.77,
           55.306930693069305,
           72.91358024691358,
           55.60606060606061,
           65.74157303370787
          ],
          "colorscale": [
           [
            0,
            "#77DD77"
           ],
           [
            0.12553213868003343,
            "#77DD77"
           ],
           [
            0.12553213868003343,
            "#33AF13"
           ],
           [
            0.4736245920356446,
            "#33AF13"
           ],
           [
            0.4736245920356446,
            "#F6D20E"
           ],
           [
            1,
            "#F6D20E"
           ]
          ],
          "opacity": 0.7,
          "size": 17
         },
         "mode": "markers",
         "name": "After Lockdown",
         "subplot": "mapbox2",
         "text": [
          "AP001<br><b>Station</b>: Secretariat, Amaravati - APPCB<br><b>AQI</b>: 52.0",
          "AP005<br><b>Station</b>: GVM Corporation, Visakhapatnam - APPCB<br><b>AQI</b>: 69.0",
          "AS001<br><b>Station</b>: Railway Colony, Guwahati - APCB<br><b>AQI</b>: 86.0",
          "BR005<br><b>Station</b>: DRM Office Danapur, Patna - BSPCB<br><b>AQI</b>: 87.0",
          "BR006<br><b>Station</b>: Govt. High School Shikarpur, Patna - BSPCB<br><b>AQI</b>: 115.0",
          "BR007<br><b>Station</b>: IGSC Planetarium Complex, Patna - BSPCB<br><b>AQI</b>: 127.0",
          "BR008<br><b>Station</b>: Muradpur, Patna - BSPCB<br><b>AQI</b>: 92.0",
          "BR009<br><b>Station</b>: Rajbansi Nagar, Patna - BSPCB<br><b>AQI</b>: 93.0",
          "BR010<br><b>Station</b>: Samanpura, Patna - BSPCB<br><b>AQI</b>: 176.0",
          "CH001<br><b>Station</b>: Sector-25, Chandigarh - CPCC<br><b>AQI</b>: 60.0",
          "DL001<br><b>Station</b>: Alipur, Delhi - DPCC<br><b>AQI</b>: 129.0",
          "DL002<br><b>Station</b>: Anand Vihar, Delhi - DPCC<br><b>AQI</b>: 158.0",
          "DL003<br><b>Station</b>: Ashok Vihar, Delhi - DPCC<br><b>AQI</b>: 108.0",
          "DL004<br><b>Station</b>: Aya Nagar, Delhi - IMD<br><b>AQI</b>: 100.0",
          "DL005<br><b>Station</b>: Bawana, Delhi - DPCC<br><b>AQI</b>: 164.0",
          "DL007<br><b>Station</b>: CRRI Mathura Road, Delhi - IMD<br><b>AQI</b>: 115.0",
          "DL008<br><b>Station</b>: DTU, Delhi - CPCB<br><b>AQI</b>: 159.0",
          "DL009<br><b>Station</b>: Dr. Karni Singh Shooting Range, Delhi - DPCC<br><b>AQI</b>: 156.0",
          "DL010<br><b>Station</b>: Dwarka-Sector 8, Delhi - DPCC<br><b>AQI</b>: 134.0",
          "DL011<br><b>Station</b>: East Arjun Nagar, Delhi - CPCB<br><b>AQI</b>: nan",
          "DL012<br><b>Station</b>: IGI Airport (T3), Delhi - IMD<br><b>AQI</b>: 99.0",
          "DL013<br><b>Station</b>: IHBAS, Dilshad Garden, Delhi - CPCB<br><b>AQI</b>: 93.0",
          "DL014<br><b>Station</b>: ITO, Delhi - CPCB<br><b>AQI</b>: 157.0",
          "DL015<br><b>Station</b>: Jahangirpuri, Delhi - DPCC<br><b>AQI</b>: 129.0",
          "DL016<br><b>Station</b>: Jawaharlal Nehru Stadium, Delhi - DPCC<br><b>AQI</b>: 123.0",
          "DL017<br><b>Station</b>: Lodhi Road, Delhi - IMD<br><b>AQI</b>: 134.0",
          "DL018<br><b>Station</b>: Major Dhyan Chand National Stadium, Delhi - DPCC<br><b>AQI</b>: 121.0",
          "DL019<br><b>Station</b>: Mandir Marg, Delhi - DPCC<br><b>AQI</b>: 92.0",
          "DL020<br><b>Station</b>: Mundka, Delhi - DPCC<br><b>AQI</b>: 148.0",
          "DL021<br><b>Station</b>: NSIT Dwarka, Delhi - CPCB<br><b>AQI</b>: 123.0",
          "DL022<br><b>Station</b>: Najafgarh, Delhi - DPCC<br><b>AQI</b>: 128.0",
          "DL023<br><b>Station</b>: Narela, Delhi - DPCC<br><b>AQI</b>: 157.0",
          "DL024<br><b>Station</b>: Nehru Nagar, Delhi - DPCC<br><b>AQI</b>: 149.0",
          "DL025<br><b>Station</b>: North Campus, DU, Delhi - IMD<br><b>AQI</b>: 104.0",
          "DL026<br><b>Station</b>: Okhla Phase-2, Delhi - DPCC<br><b>AQI</b>: 109.0",
          "DL027<br><b>Station</b>: Patparganj, Delhi - DPCC<br><b>AQI</b>: 89.0",
          "DL028<br><b>Station</b>: Punjabi Bagh, Delhi - DPCC<br><b>AQI</b>: 149.0",
          "DL029<br><b>Station</b>: Pusa, Delhi - DPCC<br><b>AQI</b>: 117.0",
          "DL030<br><b>Station</b>: Pusa, Delhi - IMD<br><b>AQI</b>: 124.0",
          "DL031<br><b>Station</b>: R K Puram, Delhi - DPCC<br><b>AQI</b>: 101.0",
          "DL032<br><b>Station</b>: Rohini, Delhi - DPCC<br><b>AQI</b>: 138.0",
          "DL033<br><b>Station</b>: Shadipur, Delhi - CPCB<br><b>AQI</b>: 89.0",
          "DL034<br><b>Station</b>: Sirifort, Delhi - CPCB<br><b>AQI</b>: 144.0",
          "DL035<br><b>Station</b>: Sonia Vihar, Delhi - DPCC<br><b>AQI</b>: 125.0",
          "DL036<br><b>Station</b>: Sri Aurobindo Marg, Delhi - DPCC<br><b>AQI</b>: 119.0",
          "DL037<br><b>Station</b>: Vivek Vihar, Delhi - DPCC<br><b>AQI</b>: 122.0",
          "DL038<br><b>Station</b>: Wazirpur, Delhi - DPCC<br><b>AQI</b>: 125.0",
          "GJ001<br><b>Station</b>: Maninagar, Ahmedabad - GPCB<br><b>AQI</b>: 121.0",
          "HR011<br><b>Station</b>: NISE Gwal Pahari, Gurugram - IMD<br><b>AQI</b>: 104.0",
          "HR012<br><b>Station</b>: Sector-51, Gurugram - HSPCB<br><b>AQI</b>: 151.0",
          "HR013<br><b>Station</b>: Teri Gram, Gurugram - HSPCB<br><b>AQI</b>: 112.0",
          "HR014<br><b>Station</b>: Vikas Sadan, Gurugram - HSPCB<br><b>AQI</b>: 139.0",
          "JH001<br><b>Station</b>: Tata Stadium, Jorapokhar - JSPCB<br><b>AQI</b>: 131.0",
          "KA002<br><b>Station</b>: BTM Layout, Bengaluru - CPCB<br><b>AQI</b>: 73.0",
          "KA003<br><b>Station</b>: BWSSB Kadabesanahalli, Bengaluru - CPCB<br><b>AQI</b>: 109.0",
          "KA004<br><b>Station</b>: Bapuji Nagar, Bengaluru - KSPCB<br><b>AQI</b>: 67.0",
          "KA005<br><b>Station</b>: City Railway Station, Bengaluru - KSPCB<br><b>AQI</b>: 84.0",
          "KA006<br><b>Station</b>: Hebbal, Bengaluru - KSPCB<br><b>AQI</b>: 56.0",
          "KA007<br><b>Station</b>: Hombegowda Nagar, Bengaluru - KSPCB<br><b>AQI</b>: 61.0",
          "KA008<br><b>Station</b>: Jayanagar 5th Block, Bengaluru - KSPCB<br><b>AQI</b>: 53.0",
          "KA009<br><b>Station</b>: Peenya, Bengaluru - CPCB<br><b>AQI</b>: 64.0",
          "KA010<br><b>Station</b>: Sanegurava Halli, Bengaluru - KSPCB<br><b>AQI</b>: 55.0",
          "KA011<br><b>Station</b>: Silk Board, Bengaluru - KSPCB<br><b>AQI</b>: 57.0",
          "KL002<br><b>Station</b>: Kacheripady, Ernakulam - Kerala PCB<br><b>AQI</b>: 88.0",
          "KL004<br><b>Station</b>: Vyttila, Kochi - Kerala PCB<br><b>AQI</b>: 91.0",
          "KL007<br><b>Station</b>: Kariavattom, Thiruvananthapuram - Kerala PCB<br><b>AQI</b>: 58.0",
          "KL008<br><b>Station</b>: Plammoodu, Thiruvananthapuram - Kerala PCB<br><b>AQI</b>: 51.0",
          "MH005<br><b>Station</b>: Bandra, Mumbai - MPCB<br><b>AQI</b>: 67.0",
          "MH006<br><b>Station</b>: Borivali East, Mumbai - MPCB<br><b>AQI</b>: 62.0",
          "MH007<br><b>Station</b>: Chhatrapati Shivaji Intl. Airport (T2), Mumbai - MPCB<br><b>AQI</b>: 76.0",
          "MH008<br><b>Station</b>: Colaba, Mumbai - MPCB<br><b>AQI</b>: 53.0",
          "MH009<br><b>Station</b>: Kurla, Mumbai - MPCB<br><b>AQI</b>: 79.0",
          "MH010<br><b>Station</b>: Powai, Mumbai - MPCB<br><b>AQI</b>: 53.0",
          "MH011<br><b>Station</b>: Sion, Mumbai - MPCB<br><b>AQI</b>: 70.0",
          "MH012<br><b>Station</b>: Vasai West, Mumbai - MPCB<br><b>AQI</b>: 70.0",
          "MH013<br><b>Station</b>: Vile Parle West, Mumbai - MPCB<br><b>AQI</b>: 51.0",
          "MH014<br><b>Station</b>: Worli, Mumbai - MPCB<br><b>AQI</b>: 55.0",
          "ML001<br><b>Station</b>: Lumpyngngad, Shillong - Meghalaya PCB<br><b>AQI</b>: 39.0",
          "MP001<br><b>Station</b>: T T Nagar, Bhopal - MPPCB<br><b>AQI</b>: 94.0",
          "MZ001<br><b>Station</b>: Sikulpuikawn, Aizawl - Mizoram PCB<br><b>AQI</b>: 32.0",
          "OD001<br><b>Station</b>: GM Office, Brajrajnagar - OSPCB<br><b>AQI</b>: 134.0",
          "OD002<br><b>Station</b>: Talcher Coalfields,Talcher - OSPCB<br><b>AQI</b>: 110.0",
          "PB001<br><b>Station</b>: Golden Temple, Amritsar - PPCB<br><b>AQI</b>: 80.0",
          "RJ004<br><b>Station</b>: Adarsh Nagar, Jaipur - RSPCB<br><b>AQI</b>: 91.0",
          "RJ005<br><b>Station</b>: Police Commissionerate, Jaipur - RSPCB<br><b>AQI</b>: 97.0",
          "RJ006<br><b>Station</b>: Shastri Nagar, Jaipur - RSPCB<br><b>AQI</b>: 99.0",
          "TG001<br><b>Station</b>: Bollaram Industrial Area, Hyderabad - TSPCB<br><b>AQI</b>: 67.0",
          "TG002<br><b>Station</b>: Central University, Hyderabad - TSPCB<br><b>AQI</b>: 62.0",
          "TG003<br><b>Station</b>: ICRISAT Patancheru, Hyderabad - TSPCB<br><b>AQI</b>: 60.0",
          "TG004<br><b>Station</b>: IDA Pashamylaram, Hyderabad - TSPCB<br><b>AQI</b>: 68.0",
          "TG005<br><b>Station</b>: Sanathnagar, Hyderabad - TSPCB<br><b>AQI</b>: 57.0",
          "TG006<br><b>Station</b>: Zoo Park, Hyderabad - TSPCB<br><b>AQI</b>: 68.0",
          "TN001<br><b>Station</b>: Alandur Bus Depot, Chennai - CPCB<br><b>AQI</b>: 73.0",
          "TN002<br><b>Station</b>: Manali Village, Chennai - TNPCB<br><b>AQI</b>: 111.0",
          "TN003<br><b>Station</b>: Manali, Chennai - CPCB<br><b>AQI</b>: 81.0",
          "TN004<br><b>Station</b>: Velachery Res. Area, Chennai - CPCB<br><b>AQI</b>: 60.0",
          "TN005<br><b>Station</b>: SIDCO Kurichi, Coimbatore - TNPCB<br><b>AQI</b>: 57.0",
          "UP012<br><b>Station</b>: Central School, Lucknow - CPCB<br><b>AQI</b>: 83.0",
          "UP013<br><b>Station</b>: Gomti Nagar, Lucknow - UPPCB<br><b>AQI</b>: 66.0",
          "UP014<br><b>Station</b>: Lalbagh, Lucknow - CPCB<br><b>AQI</b>: 130.0",
          "UP016<br><b>Station</b>: Talkatora District Industries Center, Lucknow - CPCB<br><b>AQI</b>: 143.0",
          "WB007<br><b>Station</b>: Ballygunge, Kolkata - WBPCB<br><b>AQI</b>: 60.0",
          "WB008<br><b>Station</b>: Bidhannagar, Kolkata - WBPCB<br><b>AQI</b>: 60.0",
          "WB009<br><b>Station</b>: Fort William, Kolkata - WBPCB<br><b>AQI</b>: 59.0",
          "WB010<br><b>Station</b>: Jadavpur, Kolkata - WBPCB<br><b>AQI</b>: 55.0",
          "WB011<br><b>Station</b>: Rabindra Bharati University, Kolkata - WBPCB<br><b>AQI</b>: 73.0",
          "WB012<br><b>Station</b>: Rabindra Sarobar, Kolkata - WBPCB<br><b>AQI</b>: 56.0",
          "WB013<br><b>Station</b>: Victoria, Kolkata - WBPCB<br><b>AQI</b>: 66.0"
         ],
         "type": "scattermapbox"
        }
       ],
       "layout": {
        "autosize": true,
        "hovermode": "closest",
        "mapbox": {
         "accesstoken": "pk.eyJ1IjoibWVya2VuZGl6YXIiLCJhIjoiY2t0bndsOHJrMDBzMjJvbzQ0NjlybTc0eSJ9.5X4jIj0tANN07r6kPJdiqQ",
         "bearing": 0,
         "center": {
          "lat": 20.5937,
          "lon": 78.9629
         },
         "domain": {
          "x": [
           0,
           0.48
          ],
          "y": [
           0,
           1
          ]
         },
         "layers": [
          {
           "below": "traces",
           "source": [
            "https://basemap.nationalmap.gov/arcgis/rest/services/USGSImageryOnly/MapServer/tile/{z}/{y}/{x}"
           ],
           "sourcetype": "raster"
          }
         ],
         "pitch": 0,
         "zoom": 2.5
        },
        "mapbox2": {
         "accesstoken": "pk.eyJ1IjoibWVya2VuZGl6YXIiLCJhIjoiY2t0bndsOHJrMDBzMjJvbzQ0NjlybTc0eSJ9.5X4jIj0tANN07r6kPJdiqQ",
         "bearing": 0,
         "center": {
          "lat": 20.5937,
          "lon": 78.9629
         },
         "domain": {
          "x": [
           0.52,
           1
          ],
          "y": [
           0,
           1
          ]
         },
         "pitch": 0,
         "style": "outdoors",
         "zoom": 2.5
        },
        "margin": {
         "b": 20,
         "l": 20,
         "r": 20,
         "t": 40
        },
        "paper_bgcolor": "LightSteelBlue",
        "showlegend": false,
        "template": {
         "data": {
          "bar": [
           {
            "error_x": {
             "color": "#2a3f5f"
            },
            "error_y": {
             "color": "#2a3f5f"
            },
            "marker": {
             "line": {
              "color": "#E5ECF6",
              "width": 0.5
             },
             "pattern": {
              "fillmode": "overlay",
              "size": 10,
              "solidity": 0.2
             }
            },
            "type": "bar"
           }
          ],
          "barpolar": [
           {
            "marker": {
             "line": {
              "color": "#E5ECF6",
              "width": 0.5
             },
             "pattern": {
              "fillmode": "overlay",
              "size": 10,
              "solidity": 0.2
             }
            },
            "type": "barpolar"
           }
          ],
          "carpet": [
           {
            "aaxis": {
             "endlinecolor": "#2a3f5f",
             "gridcolor": "white",
             "linecolor": "white",
             "minorgridcolor": "white",
             "startlinecolor": "#2a3f5f"
            },
            "baxis": {
             "endlinecolor": "#2a3f5f",
             "gridcolor": "white",
             "linecolor": "white",
             "minorgridcolor": "white",
             "startlinecolor": "#2a3f5f"
            },
            "type": "carpet"
           }
          ],
          "choropleth": [
           {
            "colorbar": {
             "outlinewidth": 0,
             "ticks": ""
            },
            "type": "choropleth"
           }
          ],
          "contour": [
           {
            "colorbar": {
             "outlinewidth": 0,
             "ticks": ""
            },
            "colorscale": [
             [
              0,
              "#0d0887"
             ],
             [
              0.1111111111111111,
              "#46039f"
             ],
             [
              0.2222222222222222,
              "#7201a8"
             ],
             [
              0.3333333333333333,
              "#9c179e"
             ],
             [
              0.4444444444444444,
              "#bd3786"
             ],
             [
              0.5555555555555556,
              "#d8576b"
             ],
             [
              0.6666666666666666,
              "#ed7953"
             ],
             [
              0.7777777777777778,
              "#fb9f3a"
             ],
             [
              0.8888888888888888,
              "#fdca26"
             ],
             [
              1,
              "#f0f921"
             ]
            ],
            "type": "contour"
           }
          ],
          "contourcarpet": [
           {
            "colorbar": {
             "outlinewidth": 0,
             "ticks": ""
            },
            "type": "contourcarpet"
           }
          ],
          "heatmap": [
           {
            "colorbar": {
             "outlinewidth": 0,
             "ticks": ""
            },
            "colorscale": [
             [
              0,
              "#0d0887"
             ],
             [
              0.1111111111111111,
              "#46039f"
             ],
             [
              0.2222222222222222,
              "#7201a8"
             ],
             [
              0.3333333333333333,
              "#9c179e"
             ],
             [
              0.4444444444444444,
              "#bd3786"
             ],
             [
              0.5555555555555556,
              "#d8576b"
             ],
             [
              0.6666666666666666,
              "#ed7953"
             ],
             [
              0.7777777777777778,
              "#fb9f3a"
             ],
             [
              0.8888888888888888,
              "#fdca26"
             ],
             [
              1,
              "#f0f921"
             ]
            ],
            "type": "heatmap"
           }
          ],
          "heatmapgl": [
           {
            "colorbar": {
             "outlinewidth": 0,
             "ticks": ""
            },
            "colorscale": [
             [
              0,
              "#0d0887"
             ],
             [
              0.1111111111111111,
              "#46039f"
             ],
             [
              0.2222222222222222,
              "#7201a8"
             ],
             [
              0.3333333333333333,
              "#9c179e"
             ],
             [
              0.4444444444444444,
              "#bd3786"
             ],
             [
              0.5555555555555556,
              "#d8576b"
             ],
             [
              0.6666666666666666,
              "#ed7953"
             ],
             [
              0.7777777777777778,
              "#fb9f3a"
             ],
             [
              0.8888888888888888,
              "#fdca26"
             ],
             [
              1,
              "#f0f921"
             ]
            ],
            "type": "heatmapgl"
           }
          ],
          "histogram": [
           {
            "marker": {
             "pattern": {
              "fillmode": "overlay",
              "size": 10,
              "solidity": 0.2
             }
            },
            "type": "histogram"
           }
          ],
          "histogram2d": [
           {
            "colorbar": {
             "outlinewidth": 0,
             "ticks": ""
            },
            "colorscale": [
             [
              0,
              "#0d0887"
             ],
             [
              0.1111111111111111,
              "#46039f"
             ],
             [
              0.2222222222222222,
              "#7201a8"
             ],
             [
              0.3333333333333333,
              "#9c179e"
             ],
             [
              0.4444444444444444,
              "#bd3786"
             ],
             [
              0.5555555555555556,
              "#d8576b"
             ],
             [
              0.6666666666666666,
              "#ed7953"
             ],
             [
              0.7777777777777778,
              "#fb9f3a"
             ],
             [
              0.8888888888888888,
              "#fdca26"
             ],
             [
              1,
              "#f0f921"
             ]
            ],
            "type": "histogram2d"
           }
          ],
          "histogram2dcontour": [
           {
            "colorbar": {
             "outlinewidth": 0,
             "ticks": ""
            },
            "colorscale": [
             [
              0,
              "#0d0887"
             ],
             [
              0.1111111111111111,
              "#46039f"
             ],
             [
              0.2222222222222222,
              "#7201a8"
             ],
             [
              0.3333333333333333,
              "#9c179e"
             ],
             [
              0.4444444444444444,
              "#bd3786"
             ],
             [
              0.5555555555555556,
              "#d8576b"
             ],
             [
              0.6666666666666666,
              "#ed7953"
             ],
             [
              0.7777777777777778,
              "#fb9f3a"
             ],
             [
              0.8888888888888888,
              "#fdca26"
             ],
             [
              1,
              "#f0f921"
             ]
            ],
            "type": "histogram2dcontour"
           }
          ],
          "mesh3d": [
           {
            "colorbar": {
             "outlinewidth": 0,
             "ticks": ""
            },
            "type": "mesh3d"
           }
          ],
          "parcoords": [
           {
            "line": {
             "colorbar": {
              "outlinewidth": 0,
              "ticks": ""
             }
            },
            "type": "parcoords"
           }
          ],
          "pie": [
           {
            "automargin": true,
            "type": "pie"
           }
          ],
          "scatter": [
           {
            "marker": {
             "colorbar": {
              "outlinewidth": 0,
              "ticks": ""
             }
            },
            "type": "scatter"
           }
          ],
          "scatter3d": [
           {
            "line": {
             "colorbar": {
              "outlinewidth": 0,
              "ticks": ""
             }
            },
            "marker": {
             "colorbar": {
              "outlinewidth": 0,
              "ticks": ""
             }
            },
            "type": "scatter3d"
           }
          ],
          "scattercarpet": [
           {
            "marker": {
             "colorbar": {
              "outlinewidth": 0,
              "ticks": ""
             }
            },
            "type": "scattercarpet"
           }
          ],
          "scattergeo": [
           {
            "marker": {
             "colorbar": {
              "outlinewidth": 0,
              "ticks": ""
             }
            },
            "type": "scattergeo"
           }
          ],
          "scattergl": [
           {
            "marker": {
             "colorbar": {
              "outlinewidth": 0,
              "ticks": ""
             }
            },
            "type": "scattergl"
           }
          ],
          "scattermapbox": [
           {
            "marker": {
             "colorbar": {
              "outlinewidth": 0,
              "ticks": ""
             }
            },
            "type": "scattermapbox"
           }
          ],
          "scatterpolar": [
           {
            "marker": {
             "colorbar": {
              "outlinewidth": 0,
              "ticks": ""
             }
            },
            "type": "scatterpolar"
           }
          ],
          "scatterpolargl": [
           {
            "marker": {
             "colorbar": {
              "outlinewidth": 0,
              "ticks": ""
             }
            },
            "type": "scatterpolargl"
           }
          ],
          "scatterternary": [
           {
            "marker": {
             "colorbar": {
              "outlinewidth": 0,
              "ticks": ""
             }
            },
            "type": "scatterternary"
           }
          ],
          "surface": [
           {
            "colorbar": {
             "outlinewidth": 0,
             "ticks": ""
            },
            "colorscale": [
             [
              0,
              "#0d0887"
             ],
             [
              0.1111111111111111,
              "#46039f"
             ],
             [
              0.2222222222222222,
              "#7201a8"
             ],
             [
              0.3333333333333333,
              "#9c179e"
             ],
             [
              0.4444444444444444,
              "#bd3786"
             ],
             [
              0.5555555555555556,
              "#d8576b"
             ],
             [
              0.6666666666666666,
              "#ed7953"
             ],
             [
              0.7777777777777778,
              "#fb9f3a"
             ],
             [
              0.8888888888888888,
              "#fdca26"
             ],
             [
              1,
              "#f0f921"
             ]
            ],
            "type": "surface"
           }
          ],
          "table": [
           {
            "cells": {
             "fill": {
              "color": "#EBF0F8"
             },
             "line": {
              "color": "white"
             }
            },
            "header": {
             "fill": {
              "color": "#C8D4E3"
             },
             "line": {
              "color": "white"
             }
            },
            "type": "table"
           }
          ]
         },
         "layout": {
          "annotationdefaults": {
           "arrowcolor": "#2a3f5f",
           "arrowhead": 0,
           "arrowwidth": 1
          },
          "autotypenumbers": "strict",
          "coloraxis": {
           "colorbar": {
            "outlinewidth": 0,
            "ticks": ""
           }
          },
          "colorscale": {
           "diverging": [
            [
             0,
             "#8e0152"
            ],
            [
             0.1,
             "#c51b7d"
            ],
            [
             0.2,
             "#de77ae"
            ],
            [
             0.3,
             "#f1b6da"
            ],
            [
             0.4,
             "#fde0ef"
            ],
            [
             0.5,
             "#f7f7f7"
            ],
            [
             0.6,
             "#e6f5d0"
            ],
            [
             0.7,
             "#b8e186"
            ],
            [
             0.8,
             "#7fbc41"
            ],
            [
             0.9,
             "#4d9221"
            ],
            [
             1,
             "#276419"
            ]
           ],
           "sequential": [
            [
             0,
             "#0d0887"
            ],
            [
             0.1111111111111111,
             "#46039f"
            ],
            [
             0.2222222222222222,
             "#7201a8"
            ],
            [
             0.3333333333333333,
             "#9c179e"
            ],
            [
             0.4444444444444444,
             "#bd3786"
            ],
            [
             0.5555555555555556,
             "#d8576b"
            ],
            [
             0.6666666666666666,
             "#ed7953"
            ],
            [
             0.7777777777777778,
             "#fb9f3a"
            ],
            [
             0.8888888888888888,
             "#fdca26"
            ],
            [
             1,
             "#f0f921"
            ]
           ],
           "sequentialminus": [
            [
             0,
             "#0d0887"
            ],
            [
             0.1111111111111111,
             "#46039f"
            ],
            [
             0.2222222222222222,
             "#7201a8"
            ],
            [
             0.3333333333333333,
             "#9c179e"
            ],
            [
             0.4444444444444444,
             "#bd3786"
            ],
            [
             0.5555555555555556,
             "#d8576b"
            ],
            [
             0.6666666666666666,
             "#ed7953"
            ],
            [
             0.7777777777777778,
             "#fb9f3a"
            ],
            [
             0.8888888888888888,
             "#fdca26"
            ],
            [
             1,
             "#f0f921"
            ]
           ]
          },
          "colorway": [
           "#636efa",
           "#EF553B",
           "#00cc96",
           "#ab63fa",
           "#FFA15A",
           "#19d3f3",
           "#FF6692",
           "#B6E880",
           "#FF97FF",
           "#FECB52"
          ],
          "font": {
           "color": "#2a3f5f"
          },
          "geo": {
           "bgcolor": "white",
           "lakecolor": "white",
           "landcolor": "#E5ECF6",
           "showlakes": true,
           "showland": true,
           "subunitcolor": "white"
          },
          "hoverlabel": {
           "align": "left"
          },
          "hovermode": "closest",
          "mapbox": {
           "style": "light"
          },
          "paper_bgcolor": "white",
          "plot_bgcolor": "#E5ECF6",
          "polar": {
           "angularaxis": {
            "gridcolor": "white",
            "linecolor": "white",
            "ticks": ""
           },
           "bgcolor": "#E5ECF6",
           "radialaxis": {
            "gridcolor": "white",
            "linecolor": "white",
            "ticks": ""
           }
          },
          "scene": {
           "xaxis": {
            "backgroundcolor": "#E5ECF6",
            "gridcolor": "white",
            "gridwidth": 2,
            "linecolor": "white",
            "showbackground": true,
            "ticks": "",
            "zerolinecolor": "white"
           },
           "yaxis": {
            "backgroundcolor": "#E5ECF6",
            "gridcolor": "white",
            "gridwidth": 2,
            "linecolor": "white",
            "showbackground": true,
            "ticks": "",
            "zerolinecolor": "white"
           },
           "zaxis": {
            "backgroundcolor": "#E5ECF6",
            "gridcolor": "white",
            "gridwidth": 2,
            "linecolor": "white",
            "showbackground": true,
            "ticks": "",
            "zerolinecolor": "white"
           }
          },
          "shapedefaults": {
           "line": {
            "color": "#2a3f5f"
           }
          },
          "ternary": {
           "aaxis": {
            "gridcolor": "white",
            "linecolor": "white",
            "ticks": ""
           },
           "baxis": {
            "gridcolor": "white",
            "linecolor": "white",
            "ticks": ""
           },
           "bgcolor": "#E5ECF6",
           "caxis": {
            "gridcolor": "white",
            "linecolor": "white",
            "ticks": ""
           }
          },
          "title": {
           "x": 0.05
          },
          "xaxis": {
           "automargin": true,
           "gridcolor": "white",
           "linecolor": "white",
           "ticks": "",
           "title": {
            "standoff": 15
           },
           "zerolinecolor": "white",
           "zerolinewidth": 2
          },
          "yaxis": {
           "automargin": true,
           "gridcolor": "white",
           "linecolor": "white",
           "ticks": "",
           "title": {
            "standoff": 15
           },
           "zerolinecolor": "white",
           "zerolinewidth": 2
          }
         }
        },
        "title": {
         "text": "India: Before & After Lockdown"
        }
       }
      }
     },
     "metadata": {}
    }
   ],
   "metadata": {}
  },
  {
   "cell_type": "code",
   "execution_count": 17,
   "source": [
    "draw_aqi_map(df_ind,'Delhi')"
   ],
   "outputs": [
    {
     "output_type": "display_data",
     "data": {
      "application/vnd.plotly.v1+json": {
       "config": {
        "plotlyServerURL": "https://plot.ly"
       },
       "data": [
        {
         "hoverinfo": "text",
         "lat": [
          "28.7972",
          "28.6687",
          "28.6687",
          "28.4707",
          "28.7932",
          "28.5512",
          "28.7496",
          "28.4986",
          "28.571",
          "28.6557",
          "28.5628",
          "28.6826",
          "28.6286",
          "28.6687",
          "28.5803",
          "28.5901",
          "28.6113",
          "28.6364",
          "28.6823",
          "28.6091",
          "28.5702",
          "28.8549",
          "28.5679",
          "28.6574",
          "28.5308",
          "28.6687",
          "28.6687",
          "28.6377",
          "28.5901",
          "28.6687",
          "28.6687",
          "28.6515",
          "28.550425",
          "28.6687",
          "28.5313",
          "28.6687",
          "28.6687",
          "28.7285"
         ],
         "lon": [
          77.1331,
          77.23,
          77.23,
          77.1099,
          77.0483,
          77.2736,
          77.1174,
          77.2648,
          77.0719,
          77.2949,
          77.118,
          77.305,
          77.2411,
          77.23,
          77.2338,
          77.2207,
          77.2377,
          77.2011,
          77.0349,
          77.0325,
          76.9338,
          77.0892,
          77.2505,
          77.1585,
          77.2713,
          77.23,
          77.23,
          77.1571,
          77.2207,
          77.23,
          77.23,
          77.1473,
          77.215935,
          77.23,
          77.1902,
          77.23,
          77.23,
          77.1993
         ],
         "marker": {
          "color": [
           236.7439024390244,
           277.1625,
           273.4634146341463,
           180.109756097561,
           294.0740740740741,
           254.15853658536585,
           285.08641975308643,
           246.9512195121951,
           294.3048780487805,
           null,
           211.9268292682927,
           226.6829268292683,
           260.6666666666667,
           295.4125,
           245.3658536585366,
           190.5731707317073,
           238.23170731707316,
           223.0506329113924,
           300.55696202531647,
           259,
           227,
           258.1829268292683,
           294.9634146341463,
           209.46913580246914,
           259.7682926829268,
           230.7560975609756,
           289.525,
           252.475,
           169.46341463414635,
           215.1219512195122,
           300.5487804878049,
           228.5121951219512,
           279.6951219512195,
           249.53658536585365,
           223.03658536585365,
           276.5365853658537,
           296.780487804878,
           null
          ],
          "colorscale": [
           [
            0,
            "#77DD77"
           ],
           [
            0,
            "#77DD77"
           ],
           [
            0,
            "#33AF13"
           ],
           [
            0,
            "#33AF13"
           ],
           [
            0,
            "#F6D20E"
           ],
           [
            0.23294736399348107,
            "#F6D20E"
           ],
           [
            0.23294736399348107,
            "#F17700"
           ],
           [
            0.9957614154098329,
            "#F17700"
           ],
           [
            0.9957614154098329,
            "#FE6B64"
           ],
           [
            1,
            "#FE6B64"
           ]
          ],
          "opacity": 0.7,
          "size": 17
         },
         "mode": "markers",
         "name": "Before Lockdown",
         "subplot": "mapbox",
         "text": [
          "DL001<br><b>Station</b>: Alipur, Delhi - DPCC<br><b>AQI</b>: 237.0",
          "DL002<br><b>Station</b>: Anand Vihar, Delhi - DPCC<br><b>AQI</b>: 277.0",
          "DL003<br><b>Station</b>: Ashok Vihar, Delhi - DPCC<br><b>AQI</b>: 273.0",
          "DL004<br><b>Station</b>: Aya Nagar, Delhi - IMD<br><b>AQI</b>: 180.0",
          "DL005<br><b>Station</b>: Bawana, Delhi - DPCC<br><b>AQI</b>: 294.0",
          "DL007<br><b>Station</b>: CRRI Mathura Road, Delhi - IMD<br><b>AQI</b>: 254.0",
          "DL008<br><b>Station</b>: DTU, Delhi - CPCB<br><b>AQI</b>: 285.0",
          "DL009<br><b>Station</b>: Dr. Karni Singh Shooting Range, Delhi - DPCC<br><b>AQI</b>: 247.0",
          "DL010<br><b>Station</b>: Dwarka-Sector 8, Delhi - DPCC<br><b>AQI</b>: 294.0",
          "DL011<br><b>Station</b>: East Arjun Nagar, Delhi - CPCB<br><b>AQI</b>: nan",
          "DL012<br><b>Station</b>: IGI Airport (T3), Delhi - IMD<br><b>AQI</b>: 212.0",
          "DL013<br><b>Station</b>: IHBAS, Dilshad Garden, Delhi - CPCB<br><b>AQI</b>: 227.0",
          "DL014<br><b>Station</b>: ITO, Delhi - CPCB<br><b>AQI</b>: 261.0",
          "DL015<br><b>Station</b>: Jahangirpuri, Delhi - DPCC<br><b>AQI</b>: 295.0",
          "DL016<br><b>Station</b>: Jawaharlal Nehru Stadium, Delhi - DPCC<br><b>AQI</b>: 245.0",
          "DL017<br><b>Station</b>: Lodhi Road, Delhi - IMD<br><b>AQI</b>: 191.0",
          "DL018<br><b>Station</b>: Major Dhyan Chand National Stadium, Delhi - DPCC<br><b>AQI</b>: 238.0",
          "DL019<br><b>Station</b>: Mandir Marg, Delhi - DPCC<br><b>AQI</b>: 223.0",
          "DL020<br><b>Station</b>: Mundka, Delhi - DPCC<br><b>AQI</b>: 301.0",
          "DL021<br><b>Station</b>: NSIT Dwarka, Delhi - CPCB<br><b>AQI</b>: 259.0",
          "DL022<br><b>Station</b>: Najafgarh, Delhi - DPCC<br><b>AQI</b>: 227.0",
          "DL023<br><b>Station</b>: Narela, Delhi - DPCC<br><b>AQI</b>: 258.0",
          "DL024<br><b>Station</b>: Nehru Nagar, Delhi - DPCC<br><b>AQI</b>: 295.0",
          "DL025<br><b>Station</b>: North Campus, DU, Delhi - IMD<br><b>AQI</b>: 209.0",
          "DL026<br><b>Station</b>: Okhla Phase-2, Delhi - DPCC<br><b>AQI</b>: 260.0",
          "DL027<br><b>Station</b>: Patparganj, Delhi - DPCC<br><b>AQI</b>: 231.0",
          "DL028<br><b>Station</b>: Punjabi Bagh, Delhi - DPCC<br><b>AQI</b>: 290.0",
          "DL029<br><b>Station</b>: Pusa, Delhi - DPCC<br><b>AQI</b>: 252.0",
          "DL030<br><b>Station</b>: Pusa, Delhi - IMD<br><b>AQI</b>: 169.0",
          "DL031<br><b>Station</b>: R K Puram, Delhi - DPCC<br><b>AQI</b>: 215.0",
          "DL032<br><b>Station</b>: Rohini, Delhi - DPCC<br><b>AQI</b>: 301.0",
          "DL033<br><b>Station</b>: Shadipur, Delhi - CPCB<br><b>AQI</b>: 229.0",
          "DL034<br><b>Station</b>: Sirifort, Delhi - CPCB<br><b>AQI</b>: 280.0",
          "DL035<br><b>Station</b>: Sonia Vihar, Delhi - DPCC<br><b>AQI</b>: 250.0",
          "DL036<br><b>Station</b>: Sri Aurobindo Marg, Delhi - DPCC<br><b>AQI</b>: 223.0",
          "DL037<br><b>Station</b>: Vivek Vihar, Delhi - DPCC<br><b>AQI</b>: 277.0",
          "DL038<br><b>Station</b>: Wazirpur, Delhi - DPCC<br><b>AQI</b>: 297.0",
          "DL006<br><b>Station</b>: Burari Crossing, Delhi - IMD<br><b>AQI</b>: nan"
         ],
         "type": "scattermapbox"
        },
        {
         "hoverinfo": "text",
         "lat": [
          "28.7972",
          "28.6687",
          "28.6687",
          "28.4707",
          "28.7932",
          "28.5512",
          "28.7496",
          "28.4986",
          "28.571",
          "28.6557",
          "28.5628",
          "28.6826",
          "28.6286",
          "28.6687",
          "28.5803",
          "28.5901",
          "28.6113",
          "28.6364",
          "28.6823",
          "28.6091",
          "28.5702",
          "28.8549",
          "28.5679",
          "28.6574",
          "28.5308",
          "28.6687",
          "28.6687",
          "28.6377",
          "28.5901",
          "28.6687",
          "28.6687",
          "28.6515",
          "28.550425",
          "28.6687",
          "28.5313",
          "28.6687",
          "28.6687"
         ],
         "lon": [
          77.1331,
          77.23,
          77.23,
          77.1099,
          77.0483,
          77.2736,
          77.1174,
          77.2648,
          77.0719,
          77.2949,
          77.118,
          77.305,
          77.2411,
          77.23,
          77.2338,
          77.2207,
          77.2377,
          77.2011,
          77.0349,
          77.0325,
          76.9338,
          77.0892,
          77.2505,
          77.1585,
          77.2713,
          77.23,
          77.23,
          77.1571,
          77.2207,
          77.23,
          77.23,
          77.1473,
          77.215935,
          77.23,
          77.1902,
          77.23,
          77.23
         ],
         "marker": {
          "color": [
           129.02020202020202,
           157.51388888888889,
           107.63366336633663,
           99.83673469387755,
           164.33333333333334,
           114.57425742574257,
           159.01020408163265,
           155.66336633663366,
           134.0891089108911,
           null,
           98.5959595959596,
           93.17821782178218,
           157.03191489361703,
           129.3,
           123.16831683168317,
           134.39080459770116,
           120.54,
           91.89583333333333,
           147.55208333333334,
           123.33333333333333,
           128.375,
           157.48192771084337,
           149.34653465346534,
           103.8019801980198,
           109.4950495049505,
           89.14141414141415,
           148.75,
           117.20588235294117,
           123.73214285714286,
           101.36633663366337,
           138,
           88.66336633663366,
           143.9009900990099,
           124.52577319587628,
           119.16326530612245,
           121.70297029702971,
           124.80412371134021
          ],
          "colorscale": [
           [
            0,
            "#77DD77"
           ],
           [
            0,
            "#77DD77"
           ],
           [
            0,
            "#33AF13"
           ],
           [
            0.14982681786461974,
            "#33AF13"
           ],
           [
            0.14982681786461974,
            "#F6D20E"
           ],
           [
            1,
            "#F6D20E"
           ]
          ],
          "opacity": 0.7,
          "size": 17
         },
         "mode": "markers",
         "name": "After Lockdown",
         "subplot": "mapbox2",
         "text": [
          "DL001<br><b>Station</b>: Alipur, Delhi - DPCC<br><b>AQI</b>: 129.0",
          "DL002<br><b>Station</b>: Anand Vihar, Delhi - DPCC<br><b>AQI</b>: 158.0",
          "DL003<br><b>Station</b>: Ashok Vihar, Delhi - DPCC<br><b>AQI</b>: 108.0",
          "DL004<br><b>Station</b>: Aya Nagar, Delhi - IMD<br><b>AQI</b>: 100.0",
          "DL005<br><b>Station</b>: Bawana, Delhi - DPCC<br><b>AQI</b>: 164.0",
          "DL007<br><b>Station</b>: CRRI Mathura Road, Delhi - IMD<br><b>AQI</b>: 115.0",
          "DL008<br><b>Station</b>: DTU, Delhi - CPCB<br><b>AQI</b>: 159.0",
          "DL009<br><b>Station</b>: Dr. Karni Singh Shooting Range, Delhi - DPCC<br><b>AQI</b>: 156.0",
          "DL010<br><b>Station</b>: Dwarka-Sector 8, Delhi - DPCC<br><b>AQI</b>: 134.0",
          "DL011<br><b>Station</b>: East Arjun Nagar, Delhi - CPCB<br><b>AQI</b>: nan",
          "DL012<br><b>Station</b>: IGI Airport (T3), Delhi - IMD<br><b>AQI</b>: 99.0",
          "DL013<br><b>Station</b>: IHBAS, Dilshad Garden, Delhi - CPCB<br><b>AQI</b>: 93.0",
          "DL014<br><b>Station</b>: ITO, Delhi - CPCB<br><b>AQI</b>: 157.0",
          "DL015<br><b>Station</b>: Jahangirpuri, Delhi - DPCC<br><b>AQI</b>: 129.0",
          "DL016<br><b>Station</b>: Jawaharlal Nehru Stadium, Delhi - DPCC<br><b>AQI</b>: 123.0",
          "DL017<br><b>Station</b>: Lodhi Road, Delhi - IMD<br><b>AQI</b>: 134.0",
          "DL018<br><b>Station</b>: Major Dhyan Chand National Stadium, Delhi - DPCC<br><b>AQI</b>: 121.0",
          "DL019<br><b>Station</b>: Mandir Marg, Delhi - DPCC<br><b>AQI</b>: 92.0",
          "DL020<br><b>Station</b>: Mundka, Delhi - DPCC<br><b>AQI</b>: 148.0",
          "DL021<br><b>Station</b>: NSIT Dwarka, Delhi - CPCB<br><b>AQI</b>: 123.0",
          "DL022<br><b>Station</b>: Najafgarh, Delhi - DPCC<br><b>AQI</b>: 128.0",
          "DL023<br><b>Station</b>: Narela, Delhi - DPCC<br><b>AQI</b>: 157.0",
          "DL024<br><b>Station</b>: Nehru Nagar, Delhi - DPCC<br><b>AQI</b>: 149.0",
          "DL025<br><b>Station</b>: North Campus, DU, Delhi - IMD<br><b>AQI</b>: 104.0",
          "DL026<br><b>Station</b>: Okhla Phase-2, Delhi - DPCC<br><b>AQI</b>: 109.0",
          "DL027<br><b>Station</b>: Patparganj, Delhi - DPCC<br><b>AQI</b>: 89.0",
          "DL028<br><b>Station</b>: Punjabi Bagh, Delhi - DPCC<br><b>AQI</b>: 149.0",
          "DL029<br><b>Station</b>: Pusa, Delhi - DPCC<br><b>AQI</b>: 117.0",
          "DL030<br><b>Station</b>: Pusa, Delhi - IMD<br><b>AQI</b>: 124.0",
          "DL031<br><b>Station</b>: R K Puram, Delhi - DPCC<br><b>AQI</b>: 101.0",
          "DL032<br><b>Station</b>: Rohini, Delhi - DPCC<br><b>AQI</b>: 138.0",
          "DL033<br><b>Station</b>: Shadipur, Delhi - CPCB<br><b>AQI</b>: 89.0",
          "DL034<br><b>Station</b>: Sirifort, Delhi - CPCB<br><b>AQI</b>: 144.0",
          "DL035<br><b>Station</b>: Sonia Vihar, Delhi - DPCC<br><b>AQI</b>: 125.0",
          "DL036<br><b>Station</b>: Sri Aurobindo Marg, Delhi - DPCC<br><b>AQI</b>: 119.0",
          "DL037<br><b>Station</b>: Vivek Vihar, Delhi - DPCC<br><b>AQI</b>: 122.0",
          "DL038<br><b>Station</b>: Wazirpur, Delhi - DPCC<br><b>AQI</b>: 125.0"
         ],
         "type": "scattermapbox"
        }
       ],
       "layout": {
        "autosize": true,
        "hovermode": "closest",
        "mapbox": {
         "accesstoken": "pk.eyJ1IjoibWVya2VuZGl6YXIiLCJhIjoiY2t0bndsOHJrMDBzMjJvbzQ0NjlybTc0eSJ9.5X4jIj0tANN07r6kPJdiqQ",
         "bearing": 0,
         "center": {
          "lat": 28.7041,
          "lon": 77.1025
         },
         "domain": {
          "x": [
           0,
           0.48
          ],
          "y": [
           0,
           1
          ]
         },
         "layers": [
          {
           "below": "traces",
           "source": [
            "https://basemap.nationalmap.gov/arcgis/rest/services/USGSImageryOnly/MapServer/tile/{z}/{y}/{x}"
           ],
           "sourcetype": "raster"
          }
         ],
         "pitch": 0,
         "zoom": 8
        },
        "mapbox2": {
         "accesstoken": "pk.eyJ1IjoibWVya2VuZGl6YXIiLCJhIjoiY2t0bndsOHJrMDBzMjJvbzQ0NjlybTc0eSJ9.5X4jIj0tANN07r6kPJdiqQ",
         "bearing": 0,
         "center": {
          "lat": 28.7041,
          "lon": 77.1025
         },
         "domain": {
          "x": [
           0.52,
           1
          ],
          "y": [
           0,
           1
          ]
         },
         "pitch": 0,
         "style": "outdoors",
         "zoom": 8
        },
        "margin": {
         "b": 20,
         "l": 20,
         "r": 20,
         "t": 40
        },
        "paper_bgcolor": "LightSteelBlue",
        "showlegend": false,
        "template": {
         "data": {
          "bar": [
           {
            "error_x": {
             "color": "#2a3f5f"
            },
            "error_y": {
             "color": "#2a3f5f"
            },
            "marker": {
             "line": {
              "color": "#E5ECF6",
              "width": 0.5
             },
             "pattern": {
              "fillmode": "overlay",
              "size": 10,
              "solidity": 0.2
             }
            },
            "type": "bar"
           }
          ],
          "barpolar": [
           {
            "marker": {
             "line": {
              "color": "#E5ECF6",
              "width": 0.5
             },
             "pattern": {
              "fillmode": "overlay",
              "size": 10,
              "solidity": 0.2
             }
            },
            "type": "barpolar"
           }
          ],
          "carpet": [
           {
            "aaxis": {
             "endlinecolor": "#2a3f5f",
             "gridcolor": "white",
             "linecolor": "white",
             "minorgridcolor": "white",
             "startlinecolor": "#2a3f5f"
            },
            "baxis": {
             "endlinecolor": "#2a3f5f",
             "gridcolor": "white",
             "linecolor": "white",
             "minorgridcolor": "white",
             "startlinecolor": "#2a3f5f"
            },
            "type": "carpet"
           }
          ],
          "choropleth": [
           {
            "colorbar": {
             "outlinewidth": 0,
             "ticks": ""
            },
            "type": "choropleth"
           }
          ],
          "contour": [
           {
            "colorbar": {
             "outlinewidth": 0,
             "ticks": ""
            },
            "colorscale": [
             [
              0,
              "#0d0887"
             ],
             [
              0.1111111111111111,
              "#46039f"
             ],
             [
              0.2222222222222222,
              "#7201a8"
             ],
             [
              0.3333333333333333,
              "#9c179e"
             ],
             [
              0.4444444444444444,
              "#bd3786"
             ],
             [
              0.5555555555555556,
              "#d8576b"
             ],
             [
              0.6666666666666666,
              "#ed7953"
             ],
             [
              0.7777777777777778,
              "#fb9f3a"
             ],
             [
              0.8888888888888888,
              "#fdca26"
             ],
             [
              1,
              "#f0f921"
             ]
            ],
            "type": "contour"
           }
          ],
          "contourcarpet": [
           {
            "colorbar": {
             "outlinewidth": 0,
             "ticks": ""
            },
            "type": "contourcarpet"
           }
          ],
          "heatmap": [
           {
            "colorbar": {
             "outlinewidth": 0,
             "ticks": ""
            },
            "colorscale": [
             [
              0,
              "#0d0887"
             ],
             [
              0.1111111111111111,
              "#46039f"
             ],
             [
              0.2222222222222222,
              "#7201a8"
             ],
             [
              0.3333333333333333,
              "#9c179e"
             ],
             [
              0.4444444444444444,
              "#bd3786"
             ],
             [
              0.5555555555555556,
              "#d8576b"
             ],
             [
              0.6666666666666666,
              "#ed7953"
             ],
             [
              0.7777777777777778,
              "#fb9f3a"
             ],
             [
              0.8888888888888888,
              "#fdca26"
             ],
             [
              1,
              "#f0f921"
             ]
            ],
            "type": "heatmap"
           }
          ],
          "heatmapgl": [
           {
            "colorbar": {
             "outlinewidth": 0,
             "ticks": ""
            },
            "colorscale": [
             [
              0,
              "#0d0887"
             ],
             [
              0.1111111111111111,
              "#46039f"
             ],
             [
              0.2222222222222222,
              "#7201a8"
             ],
             [
              0.3333333333333333,
              "#9c179e"
             ],
             [
              0.4444444444444444,
              "#bd3786"
             ],
             [
              0.5555555555555556,
              "#d8576b"
             ],
             [
              0.6666666666666666,
              "#ed7953"
             ],
             [
              0.7777777777777778,
              "#fb9f3a"
             ],
             [
              0.8888888888888888,
              "#fdca26"
             ],
             [
              1,
              "#f0f921"
             ]
            ],
            "type": "heatmapgl"
           }
          ],
          "histogram": [
           {
            "marker": {
             "pattern": {
              "fillmode": "overlay",
              "size": 10,
              "solidity": 0.2
             }
            },
            "type": "histogram"
           }
          ],
          "histogram2d": [
           {
            "colorbar": {
             "outlinewidth": 0,
             "ticks": ""
            },
            "colorscale": [
             [
              0,
              "#0d0887"
             ],
             [
              0.1111111111111111,
              "#46039f"
             ],
             [
              0.2222222222222222,
              "#7201a8"
             ],
             [
              0.3333333333333333,
              "#9c179e"
             ],
             [
              0.4444444444444444,
              "#bd3786"
             ],
             [
              0.5555555555555556,
              "#d8576b"
             ],
             [
              0.6666666666666666,
              "#ed7953"
             ],
             [
              0.7777777777777778,
              "#fb9f3a"
             ],
             [
              0.8888888888888888,
              "#fdca26"
             ],
             [
              1,
              "#f0f921"
             ]
            ],
            "type": "histogram2d"
           }
          ],
          "histogram2dcontour": [
           {
            "colorbar": {
             "outlinewidth": 0,
             "ticks": ""
            },
            "colorscale": [
             [
              0,
              "#0d0887"
             ],
             [
              0.1111111111111111,
              "#46039f"
             ],
             [
              0.2222222222222222,
              "#7201a8"
             ],
             [
              0.3333333333333333,
              "#9c179e"
             ],
             [
              0.4444444444444444,
              "#bd3786"
             ],
             [
              0.5555555555555556,
              "#d8576b"
             ],
             [
              0.6666666666666666,
              "#ed7953"
             ],
             [
              0.7777777777777778,
              "#fb9f3a"
             ],
             [
              0.8888888888888888,
              "#fdca26"
             ],
             [
              1,
              "#f0f921"
             ]
            ],
            "type": "histogram2dcontour"
           }
          ],
          "mesh3d": [
           {
            "colorbar": {
             "outlinewidth": 0,
             "ticks": ""
            },
            "type": "mesh3d"
           }
          ],
          "parcoords": [
           {
            "line": {
             "colorbar": {
              "outlinewidth": 0,
              "ticks": ""
             }
            },
            "type": "parcoords"
           }
          ],
          "pie": [
           {
            "automargin": true,
            "type": "pie"
           }
          ],
          "scatter": [
           {
            "marker": {
             "colorbar": {
              "outlinewidth": 0,
              "ticks": ""
             }
            },
            "type": "scatter"
           }
          ],
          "scatter3d": [
           {
            "line": {
             "colorbar": {
              "outlinewidth": 0,
              "ticks": ""
             }
            },
            "marker": {
             "colorbar": {
              "outlinewidth": 0,
              "ticks": ""
             }
            },
            "type": "scatter3d"
           }
          ],
          "scattercarpet": [
           {
            "marker": {
             "colorbar": {
              "outlinewidth": 0,
              "ticks": ""
             }
            },
            "type": "scattercarpet"
           }
          ],
          "scattergeo": [
           {
            "marker": {
             "colorbar": {
              "outlinewidth": 0,
              "ticks": ""
             }
            },
            "type": "scattergeo"
           }
          ],
          "scattergl": [
           {
            "marker": {
             "colorbar": {
              "outlinewidth": 0,
              "ticks": ""
             }
            },
            "type": "scattergl"
           }
          ],
          "scattermapbox": [
           {
            "marker": {
             "colorbar": {
              "outlinewidth": 0,
              "ticks": ""
             }
            },
            "type": "scattermapbox"
           }
          ],
          "scatterpolar": [
           {
            "marker": {
             "colorbar": {
              "outlinewidth": 0,
              "ticks": ""
             }
            },
            "type": "scatterpolar"
           }
          ],
          "scatterpolargl": [
           {
            "marker": {
             "colorbar": {
              "outlinewidth": 0,
              "ticks": ""
             }
            },
            "type": "scatterpolargl"
           }
          ],
          "scatterternary": [
           {
            "marker": {
             "colorbar": {
              "outlinewidth": 0,
              "ticks": ""
             }
            },
            "type": "scatterternary"
           }
          ],
          "surface": [
           {
            "colorbar": {
             "outlinewidth": 0,
             "ticks": ""
            },
            "colorscale": [
             [
              0,
              "#0d0887"
             ],
             [
              0.1111111111111111,
              "#46039f"
             ],
             [
              0.2222222222222222,
              "#7201a8"
             ],
             [
              0.3333333333333333,
              "#9c179e"
             ],
             [
              0.4444444444444444,
              "#bd3786"
             ],
             [
              0.5555555555555556,
              "#d8576b"
             ],
             [
              0.6666666666666666,
              "#ed7953"
             ],
             [
              0.7777777777777778,
              "#fb9f3a"
             ],
             [
              0.8888888888888888,
              "#fdca26"
             ],
             [
              1,
              "#f0f921"
             ]
            ],
            "type": "surface"
           }
          ],
          "table": [
           {
            "cells": {
             "fill": {
              "color": "#EBF0F8"
             },
             "line": {
              "color": "white"
             }
            },
            "header": {
             "fill": {
              "color": "#C8D4E3"
             },
             "line": {
              "color": "white"
             }
            },
            "type": "table"
           }
          ]
         },
         "layout": {
          "annotationdefaults": {
           "arrowcolor": "#2a3f5f",
           "arrowhead": 0,
           "arrowwidth": 1
          },
          "autotypenumbers": "strict",
          "coloraxis": {
           "colorbar": {
            "outlinewidth": 0,
            "ticks": ""
           }
          },
          "colorscale": {
           "diverging": [
            [
             0,
             "#8e0152"
            ],
            [
             0.1,
             "#c51b7d"
            ],
            [
             0.2,
             "#de77ae"
            ],
            [
             0.3,
             "#f1b6da"
            ],
            [
             0.4,
             "#fde0ef"
            ],
            [
             0.5,
             "#f7f7f7"
            ],
            [
             0.6,
             "#e6f5d0"
            ],
            [
             0.7,
             "#b8e186"
            ],
            [
             0.8,
             "#7fbc41"
            ],
            [
             0.9,
             "#4d9221"
            ],
            [
             1,
             "#276419"
            ]
           ],
           "sequential": [
            [
             0,
             "#0d0887"
            ],
            [
             0.1111111111111111,
             "#46039f"
            ],
            [
             0.2222222222222222,
             "#7201a8"
            ],
            [
             0.3333333333333333,
             "#9c179e"
            ],
            [
             0.4444444444444444,
             "#bd3786"
            ],
            [
             0.5555555555555556,
             "#d8576b"
            ],
            [
             0.6666666666666666,
             "#ed7953"
            ],
            [
             0.7777777777777778,
             "#fb9f3a"
            ],
            [
             0.8888888888888888,
             "#fdca26"
            ],
            [
             1,
             "#f0f921"
            ]
           ],
           "sequentialminus": [
            [
             0,
             "#0d0887"
            ],
            [
             0.1111111111111111,
             "#46039f"
            ],
            [
             0.2222222222222222,
             "#7201a8"
            ],
            [
             0.3333333333333333,
             "#9c179e"
            ],
            [
             0.4444444444444444,
             "#bd3786"
            ],
            [
             0.5555555555555556,
             "#d8576b"
            ],
            [
             0.6666666666666666,
             "#ed7953"
            ],
            [
             0.7777777777777778,
             "#fb9f3a"
            ],
            [
             0.8888888888888888,
             "#fdca26"
            ],
            [
             1,
             "#f0f921"
            ]
           ]
          },
          "colorway": [
           "#636efa",
           "#EF553B",
           "#00cc96",
           "#ab63fa",
           "#FFA15A",
           "#19d3f3",
           "#FF6692",
           "#B6E880",
           "#FF97FF",
           "#FECB52"
          ],
          "font": {
           "color": "#2a3f5f"
          },
          "geo": {
           "bgcolor": "white",
           "lakecolor": "white",
           "landcolor": "#E5ECF6",
           "showlakes": true,
           "showland": true,
           "subunitcolor": "white"
          },
          "hoverlabel": {
           "align": "left"
          },
          "hovermode": "closest",
          "mapbox": {
           "style": "light"
          },
          "paper_bgcolor": "white",
          "plot_bgcolor": "#E5ECF6",
          "polar": {
           "angularaxis": {
            "gridcolor": "white",
            "linecolor": "white",
            "ticks": ""
           },
           "bgcolor": "#E5ECF6",
           "radialaxis": {
            "gridcolor": "white",
            "linecolor": "white",
            "ticks": ""
           }
          },
          "scene": {
           "xaxis": {
            "backgroundcolor": "#E5ECF6",
            "gridcolor": "white",
            "gridwidth": 2,
            "linecolor": "white",
            "showbackground": true,
            "ticks": "",
            "zerolinecolor": "white"
           },
           "yaxis": {
            "backgroundcolor": "#E5ECF6",
            "gridcolor": "white",
            "gridwidth": 2,
            "linecolor": "white",
            "showbackground": true,
            "ticks": "",
            "zerolinecolor": "white"
           },
           "zaxis": {
            "backgroundcolor": "#E5ECF6",
            "gridcolor": "white",
            "gridwidth": 2,
            "linecolor": "white",
            "showbackground": true,
            "ticks": "",
            "zerolinecolor": "white"
           }
          },
          "shapedefaults": {
           "line": {
            "color": "#2a3f5f"
           }
          },
          "ternary": {
           "aaxis": {
            "gridcolor": "white",
            "linecolor": "white",
            "ticks": ""
           },
           "baxis": {
            "gridcolor": "white",
            "linecolor": "white",
            "ticks": ""
           },
           "bgcolor": "#E5ECF6",
           "caxis": {
            "gridcolor": "white",
            "linecolor": "white",
            "ticks": ""
           }
          },
          "title": {
           "x": 0.05
          },
          "xaxis": {
           "automargin": true,
           "gridcolor": "white",
           "linecolor": "white",
           "ticks": "",
           "title": {
            "standoff": 15
           },
           "zerolinecolor": "white",
           "zerolinewidth": 2
          },
          "yaxis": {
           "automargin": true,
           "gridcolor": "white",
           "linecolor": "white",
           "ticks": "",
           "title": {
            "standoff": 15
           },
           "zerolinecolor": "white",
           "zerolinewidth": 2
          }
         }
        },
        "title": {
         "text": "Delhi: Before & After Lockdown"
        }
       }
      }
     },
     "metadata": {}
    }
   ],
   "metadata": {}
  }
 ],
 "metadata": {
  "orig_nbformat": 4,
  "language_info": {
   "name": "python",
   "version": "3.8.8",
   "mimetype": "text/x-python",
   "codemirror_mode": {
    "name": "ipython",
    "version": 3
   },
   "pygments_lexer": "ipython3",
   "nbconvert_exporter": "python",
   "file_extension": ".py"
  },
  "kernelspec": {
   "name": "python3",
   "display_name": "Python 3.8.8 64-bit ('base': conda)"
  },
  "interpreter": {
   "hash": "bd3b4e7c5cd823fc53ad602c468179931c18880f25c895f2e9b663a010588779"
  }
 },
 "nbformat": 4,
 "nbformat_minor": 2
}